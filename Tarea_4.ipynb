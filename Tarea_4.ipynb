{
  "nbformat": 4,
  "nbformat_minor": 0,
  "metadata": {
    "colab": {
      "name": "Tarea_4.ipynb",
      "provenance": [],
      "authorship_tag": "ABX9TyMaQ8mdcOXEetQnVrPVTBWS",
      "include_colab_link": true
    },
    "kernelspec": {
      "name": "python3",
      "display_name": "Python 3"
    }
  },
  "cells": [
    {
      "cell_type": "markdown",
      "metadata": {
        "id": "view-in-github",
        "colab_type": "text"
      },
      "source": [
        "<a href=\"https://colab.research.google.com/github/PlasticTramp/cyp_2021/blob/main/Tarea_4.ipynb\" target=\"_parent\"><img src=\"https://colab.research.google.com/assets/colab-badge.svg\" alt=\"Open In Colab\"/></a>"
      ]
    },
    {
      "cell_type": "code",
      "metadata": {
        "colab": {
          "base_uri": "https://localhost:8080/"
        },
        "id": "NN_E9ID0CjHB",
        "outputId": "fdc3b725-d106-46ef-a80e-2a7a8c96c289"
      },
      "source": [
        "#ejemplo 2.4 aumento de un trabajador \n",
        "\n",
        "sue = 0\n",
        "sue = float(input(\"ingrese el sueldo \"))\n",
        "\n",
        "if (sue <= 1000):\n",
        "  suea = ((sue / 100) * 15) + sue\n",
        "  print(f\"el sueldo del trabajor con el aumento es ${suea:.2f}\")\n",
        "else:\n",
        " suea = ((sue / 100) * 12) + sue\n",
        " print(f\"el sueldo del trabajor con el aumento es ${suea:.2f}\")"
      ],
      "execution_count": 14,
      "outputs": [
        {
          "output_type": "stream",
          "text": [
            "ingrese el sueldo 1200\n",
            "el sueldo del trabajor con el aumento es $1344.00\n"
          ],
          "name": "stdout"
        }
      ]
    },
    {
      "cell_type": "code",
      "metadata": {
        "colab": {
          "base_uri": "https://localhost:8080/"
        },
        "id": "tUKAc6RREMsk",
        "outputId": "0b80bbaf-5333-4823-aa59-3c026b36dca6"
      },
      "source": [
        "#ejemplo 2.8 calculo de aumento segun la categoria\n",
        "\n",
        "cat = int(input(\"ingrese la categoria del trabajador \"))\n",
        "sue = float(input(\"ingrese el sueldo del trabajador \"))\n",
        "\n",
        "if (cat == 1):\n",
        "  suea = ((sue / 100) * 15) + sue\n",
        "  print(f\"el sueldo del trabajor categoria {cat} con el aumento es ${suea:.2f}\")\n",
        "elif (cat == 2):\n",
        "  suea = ((sue / 100) * 10) + sue\n",
        "  print(f\"el sueldo del trabajor categoria {cat} con el aumento es ${suea:.2f}\")\n",
        "elif (cat == 3):\n",
        "  suea = ((sue / 100) * 8) + sue\n",
        "  print(f\"el sueldo del trabajor categoria {cat} con el aumento es ${suea:.2f}\")\n",
        "elif (cat == 4):\n",
        "  suea = ((sue / 100) * 7) + sue\n",
        "  print(f\"el sueldo del trabajor categoria {cat} con el aumento es ${suea:.2f}\")\n",
        "\n",
        "\n",
        "\n"
      ],
      "execution_count": 20,
      "outputs": [
        {
          "output_type": "stream",
          "text": [
            "ingrese la categoria del trabajador 2\n",
            "ingrese el sueldo del trabajador 1750\n",
            "el sueldo del trabajor categoria 2 con el aumento es $1925.00\n"
          ],
          "name": "stdout"
        }
      ]
    }
  ]
}