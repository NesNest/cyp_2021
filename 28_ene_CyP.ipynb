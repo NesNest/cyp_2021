{
  "nbformat": 4,
  "nbformat_minor": 0,
  "metadata": {
    "colab": {
      "name": "28_ene_CyP.ipynb",
      "provenance": [],
      "authorship_tag": "ABX9TyNj/LzEd/U/Xer1837EFTfD",
      "include_colab_link": true
    },
    "kernelspec": {
      "name": "python3",
      "display_name": "Python 3"
    }
  },
  "cells": [
    {
      "cell_type": "markdown",
      "metadata": {
        "id": "view-in-github",
        "colab_type": "text"
      },
      "source": [
        "<a href=\"https://colab.research.google.com/github/PlasticTramp/cyp_2021/blob/main/28_ene_CyP.ipynb\" target=\"_parent\"><img src=\"https://colab.research.google.com/assets/colab-badge.svg\" alt=\"Open In Colab\"/></a>"
      ]
    },
    {
      "cell_type": "markdown",
      "metadata": {
        "id": "CSHYB9oaB19_"
      },
      "source": [
        "# tuplas\r\n",
        "\r\n",
        "- tipo de dato lineal, estrutura de datos\r\n",
        "- no mutable\r\n",
        "- puede contener de 0 a n elementos \r\n",
        "- se decalra con \"(\" y \")\"\r\n",
        "- no se pueden agregar ni eliminar elementos \r\n",
        "- pueden ser anidadas \r\n",
        "- los arhumentos a una funcion son enviadas como tuplas \r\n"
      ]
    },
    {
      "cell_type": "code",
      "metadata": {
        "colab": {
          "base_uri": "https://localhost:8080/"
        },
        "id": "kTbqKxrpB1ND",
        "outputId": "89560af2-6d8b-4ee8-948a-908cca10eee2"
      },
      "source": [
        "frutas = (\"Sandía\", \"Melón\", \"Limón\",\"Mango\")\r\n",
        "print(frutas)\r\n",
        "print(frutas[1:3:1])\r\n",
        "print(frutas.count('Manzanas'))\r\n",
        "\r\n",
        "#son inmutables \r\n",
        "#frutas[1] = 'Manzanas'\r\n",
        "\r\n",
        "#usos \r\n",
        "conexion = ('132.248.12.12',3306,'cyp_bd','usr_test', '1234dios')\r\n",
        "print(f\"usuario: {conexion[3]} y password: {conexion[4]}\")"
      ],
      "execution_count": 13,
      "outputs": [
        {
          "output_type": "stream",
          "text": [
            "('Sandía', 'Melón', 'Limón', 'Mango')\n",
            "('Melón', 'Limón')\n",
            "0\n",
            "usuario: usr_test y password: 1234dios\n"
          ],
          "name": "stdout"
        }
      ]
    },
    {
      "cell_type": "code",
      "metadata": {
        "colab": {
          "base_uri": "https://localhost:8080/"
        },
        "id": "j13zmc46DR_g",
        "outputId": "581ef26b-a89d-466b-dc1f-f667f25a864f"
      },
      "source": [
        "print(dir(frutas))"
      ],
      "execution_count": 6,
      "outputs": [
        {
          "output_type": "stream",
          "text": [
            "['__add__', '__class__', '__contains__', '__delattr__', '__dir__', '__doc__', '__eq__', '__format__', '__ge__', '__getattribute__', '__getitem__', '__getnewargs__', '__gt__', '__hash__', '__init__', '__init_subclass__', '__iter__', '__le__', '__len__', '__lt__', '__mul__', '__ne__', '__new__', '__reduce__', '__reduce_ex__', '__repr__', '__rmul__', '__setattr__', '__sizeof__', '__str__', '__subclasshook__', 'count', 'index']\n"
          ],
          "name": "stdout"
        }
      ]
    },
    {
      "cell_type": "markdown",
      "metadata": {
        "id": "Vpdk7Ex3FvGk"
      },
      "source": [
        "# diccionarios\r\n",
        "- estrutura de datos semi lineal\r\n",
        "- formada por pares, llave-valor \r\n",
        "- equivalente al tipo de dato JSON, de javascript.\r\n",
        "- utiliza organizacion por funcion de dispersion.\r\n",
        "- se declara con los elemntos '{\" y \"}'\r\n",
        "- el selector usa valores de tipo string (llave)\r\n",
        "- no se puede seleccionar por offset[1]\r\n",
        "- son mutables "
      ]
    },
    {
      "cell_type": "code",
      "metadata": {
        "colab": {
          "base_uri": "https://localhost:8080/"
        },
        "id": "dnHz4LRBHFpO",
        "outputId": "83cbecef-e013-4801-c204-e634ab1f7e39"
      },
      "source": [
        "alumno = {\"nombre\" : \"juan perez\", \"edad\" : \"18\"}\r\n",
        "print(alumno)\r\n",
        "print(alumno['nombre'])\r\n",
        "\r\n"
      ],
      "execution_count": 17,
      "outputs": [
        {
          "output_type": "stream",
          "text": [
            "{'nombre': 'juan perez', 'edad': '18'}\n",
            "juan perez\n"
          ],
          "name": "stdout"
        }
      ]
    },
    {
      "cell_type": "code",
      "metadata": {
        "colab": {
          "base_uri": "https://localhost:8080/"
        },
        "id": "zFhyuYUGLiRM",
        "outputId": "57309c2f-d6f3-45b2-b6f7-f63ae5148832"
      },
      "source": [
        "alumno = {\r\n",
        "          'nombre' :'Juan Pérez',\r\n",
        "          'edad' :18,\r\n",
        "          'altura' :1.71,\r\n",
        "          'estatus' :'Aprobado',\r\n",
        "          'numeros' :[555645902, 55326372],\r\n",
        "          'direccion' :{\r\n",
        "                        'calle' : 'rancho',\r\n",
        "                        'numero' :'s/n',\r\n",
        "                        'col' : 'blbla',\r\n",
        "                        'estado' :{\r\n",
        "                                  'clave' : 15,\r\n",
        "                                   'nombre_clave' : 'edomex',\r\n",
        "                                   'nombre' : 'estado de mexico',\r\n",
        "                                   }\r\n",
        "                        }          \r\n",
        "          }\r\n",
        "print(alumno)\r\n",
        "print( alumno ['numeros'])\r\n",
        "print(\"------------\")\r\n",
        "print(alumno)\r\n",
        "print(\"------------\")\r\n",
        "print(alumno)"
      ],
      "execution_count": 47,
      "outputs": [
        {
          "output_type": "stream",
          "text": [
            "{'nombre': 'Juan Pérez', 'edad': 18, 'altura': 1.71, 'estatus': 'Aprobado', 'numeros': [555645902, 55326372], 'direccion': {'calle': 'rancho', 'numero': 's/n', 'col': 'blbla', 'estado': {'clave': 15, 'nombre_clave': 'edomex', 'nombre': 'estado de mexico'}}}\n",
            "[555645902, 55326372]\n",
            "------------\n",
            "{'nombre': 'Juan Pérez', 'edad': 18, 'altura': 1.71, 'estatus': 'Aprobado', 'numeros': [555645902, 55326372], 'direccion': {'calle': 'rancho', 'numero': 's/n', 'col': 'blbla', 'estado': {'clave': 15, 'nombre_clave': 'edomex', 'nombre': 'estado de mexico'}}}\n",
            "------------\n",
            "{'nombre': 'Juan Pérez', 'edad': 18, 'altura': 1.71, 'estatus': 'Aprobado', 'numeros': [555645902, 55326372], 'direccion': {'calle': 'rancho', 'numero': 's/n', 'col': 'blbla', 'estado': {'clave': 15, 'nombre_clave': 'edomex', 'nombre': 'estado de mexico'}}}\n"
          ],
          "name": "stdout"
        }
      ]
    },
    {
      "cell_type": "code",
      "metadata": {
        "colab": {
          "base_uri": "https://localhost:8080/"
        },
        "id": "1TgHzuOROVGR",
        "outputId": "0c53d19b-0683-47d8-fd04-873ff8704f35"
      },
      "source": [
        "\r\n",
        "#kareli\r\n",
        "materia = [\"Algebra\", \"Computadoras y Programacion\", \"Calculo Diferencial e Integral\", \"Introduccion a la Ingenieria\", \"Geometria Analitica\"]\r\n",
        "alumno = {\"ID\" : (123456789), \"Nombre\" : \"Yael\", \"Apellido\" : \"Castillo\", \"Edad\" : 20, \"Escuela\" : \"FES Aragon\", \"Materia\" : materia}\r\n",
        "for i in alumno:\r\n",
        "    print(f\"Clave: {i} - Valor: {alumno[i]}\")\r\n"
      ],
      "execution_count": 19,
      "outputs": [
        {
          "output_type": "stream",
          "text": [
            "Clave: ID - Valor: 123456789\n",
            "Clave: Nombre - Valor: Yael\n",
            "Clave: Apellido - Valor: Castillo\n",
            "Clave: Edad - Valor: 20\n",
            "Clave: Escuela - Valor: FES Aragon\n",
            "Clave: Materia - Valor: ['Algebra', 'Computadoras y Programacion', 'Calculo Diferencial e Integral', 'Introduccion a la Ingenieria', 'Geometria Analitica']\n"
          ],
          "name": "stdout"
        }
      ]
    },
    {
      "cell_type": "markdown",
      "metadata": {
        "id": "W9HDZEGqVwaE"
      },
      "source": [
        "# Manipulacion de los pares llave-valor.\r\n",
        "Para ellos se emplea los metodos :\r\n",
        "- keys() \"te regreesa una tupla con los strings del diccionario \"\r\n",
        "- values() \"teregresa solo los valores\"\r\n",
        "- items() \"te regresa los pares\""
      ]
    },
    {
      "cell_type": "code",
      "metadata": {
        "colab": {
          "base_uri": "https://localhost:8080/"
        },
        "id": "BeZPWhgLWO0T",
        "outputId": "d6b61068-b681-403b-b3b4-eed936f3e357"
      },
      "source": [
        "print(alumno)\r\n",
        "llaves = alumno.keys()\r\n",
        "print( llaves )\r\n",
        "for elem in llaves:\r\n",
        "  print(elem)\r\n",
        "  print(alumno[elem])\r\n",
        "\r\n",
        "valores = alumno.values()\r\n",
        "print(valores)\r\n",
        "print(\".-.-.-.-.-.--.-.-.-.-.-.\")\r\n",
        "for val in valores:\r\n",
        "  print(val)\r\n",
        "\r\n",
        "pares = alumno.items()\r\n",
        "print(pares)\r\n",
        "for par in pares:\r\n",
        "  print(par)\r\n"
      ],
      "execution_count": 58,
      "outputs": [
        {
          "output_type": "stream",
          "text": [
            "{'nombre': 'Juan Pérez', 'edad': 18, 'altura': 1.71, 'estatus': 'Aprobado', 'numeros': [555645902, 55326372], 'direccion': {'calle': 'rancho', 'numero': 's/n', 'col': 'blbla', 'estado': {'clave': 15, 'nombre_clave': 'edomex', 'nombre': 'estado de mexico'}}}\n",
            "dict_keys(['nombre', 'edad', 'altura', 'estatus', 'numeros', 'direccion'])\n",
            "nombre\n",
            "Juan Pérez\n",
            "edad\n",
            "18\n",
            "altura\n",
            "1.71\n",
            "estatus\n",
            "Aprobado\n",
            "numeros\n",
            "[555645902, 55326372]\n",
            "direccion\n",
            "{'calle': 'rancho', 'numero': 's/n', 'col': 'blbla', 'estado': {'clave': 15, 'nombre_clave': 'edomex', 'nombre': 'estado de mexico'}}\n",
            "dict_values(['Juan Pérez', 18, 1.71, 'Aprobado', [555645902, 55326372], {'calle': 'rancho', 'numero': 's/n', 'col': 'blbla', 'estado': {'clave': 15, 'nombre_clave': 'edomex', 'nombre': 'estado de mexico'}}])\n",
            ".-.-.-.-.-.--.-.-.-.-.-.\n",
            "Juan Pérez\n",
            "18\n",
            "1.71\n",
            "Aprobado\n",
            "[555645902, 55326372]\n",
            "{'calle': 'rancho', 'numero': 's/n', 'col': 'blbla', 'estado': {'clave': 15, 'nombre_clave': 'edomex', 'nombre': 'estado de mexico'}}\n",
            "dict_items([('nombre', 'Juan Pérez'), ('edad', 18), ('altura', 1.71), ('estatus', 'Aprobado'), ('numeros', [555645902, 55326372]), ('direccion', {'calle': 'rancho', 'numero': 's/n', 'col': 'blbla', 'estado': {'clave': 15, 'nombre_clave': 'edomex', 'nombre': 'estado de mexico'}})])\n",
            "('nombre', 'Juan Pérez')\n",
            "('edad', 18)\n",
            "('altura', 1.71)\n",
            "('estatus', 'Aprobado')\n",
            "('numeros', [555645902, 55326372])\n",
            "('direccion', {'calle': 'rancho', 'numero': 's/n', 'col': 'blbla', 'estado': {'clave': 15, 'nombre_clave': 'edomex', 'nombre': 'estado de mexico'}})\n"
          ],
          "name": "stdout"
        }
      ]
    },
    {
      "cell_type": "code",
      "metadata": {
        "id": "1lZdp0n5Yzyf"
      },
      "source": [
        "print(help(dict.keys()))"
      ],
      "execution_count": null,
      "outputs": []
    }
  ]
}