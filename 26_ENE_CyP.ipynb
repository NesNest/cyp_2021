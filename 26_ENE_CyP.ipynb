{
  "nbformat": 4,
  "nbformat_minor": 0,
  "metadata": {
    "colab": {
      "name": "26_ENE_CyP.ipynb",
      "provenance": [],
      "authorship_tag": "ABX9TyOctr7g/Bxon1iDiRR6PM/R",
      "include_colab_link": true
    },
    "kernelspec": {
      "name": "python3",
      "display_name": "Python 3"
    }
  },
  "cells": [
    {
      "cell_type": "markdown",
      "metadata": {
        "id": "view-in-github",
        "colab_type": "text"
      },
      "source": [
        "<a href=\"https://colab.research.google.com/github/PlasticTramp/cyp_2021/blob/main/26_ENE_CyP.ipynb\" target=\"_parent\"><img src=\"https://colab.research.google.com/assets/colab-badge.svg\" alt=\"Open In Colab\"/></a>"
      ]
    },
    {
      "cell_type": "markdown",
      "metadata": {
        "id": "KMeDxE0JtfAt"
      },
      "source": [
        "# Listas de python 3\r\n",
        "1. es una estructura de dato lineal de 0 a n elemntos.\r\n",
        "2. \"Equivalente\" a los arreglos.\r\n",
        "3. pueden ser diferentes tipos de datos \r\n",
        "4. pueden ser anidados , lista de listas \r\n",
        "1. su selector es de la forma [ int ]\r\n",
        "2. son mutables \r\n"
      ]
    },
    {
      "cell_type": "code",
      "metadata": {
        "colab": {
          "base_uri": "https://localhost:8080/"
        },
        "id": "NvO07Ty7teY8",
        "outputId": "f6257f77-c1ad-460e-db74-6c2091334dbd"
      },
      "source": [
        "#ejemplos \r\n",
        "numeros = [4,2,45,7,83,3]\r\n",
        "print(numeros)\r\n",
        "print(numeros[2])\r\n",
        "\r\n",
        "\r\n",
        "#lista de 0 elementos \r\n",
        "colores = [] #lista vacia  / list()\r\n",
        "type(colores) #averiguar el tipo de dato con la funcion type\r\n",
        "dias = list()\r\n",
        "print(colores,dias)"
      ],
      "execution_count": 4,
      "outputs": [
        {
          "output_type": "stream",
          "text": [
            "[4, 2, 45, 7, 83, 3]\n",
            "45\n",
            "[] []\n"
          ],
          "name": "stdout"
        }
      ]
    },
    {
      "cell_type": "code",
      "metadata": {
        "colab": {
          "base_uri": "https://localhost:8080/"
        },
        "id": "sr5DP3DVwKVM",
        "outputId": "0e57ec27-f150-46ed-96d5-c1767bd75bfc"
      },
      "source": [
        "# diferentes datos \r\n",
        "mi_lista = [1,2,3,\"jose\",False,1.76,[213456432234,234543454324,3453324434,34324323]]\r\n",
        "type(mi_lista)\r\n",
        "print(mi_lista)\r\n",
        "print(mi_lista[5])\r\n",
        "print(mi_lista[6])\r\n",
        "print(mi_lista[6][2])\r\n",
        "print(mi_lista[3][3])"
      ],
      "execution_count": 30,
      "outputs": [
        {
          "output_type": "stream",
          "text": [
            "[1, 2, 3, 'jose', False, 1.76, [213456432234, 234543454324, 3453324434, 34324323]]\n",
            "1.76\n",
            "[213456432234, 234543454324, 3453324434, 34324323]\n",
            "3453324434\n",
            "e\n"
          ],
          "name": "stdout"
        }
      ]
    },
    {
      "cell_type": "code",
      "metadata": {
        "colab": {
          "base_uri": "https://localhost:8080/"
        },
        "id": "VKxwYHJG0cTq",
        "outputId": "b3d8b3b0-9d66-4369-e0d1-8f88c3952685"
      },
      "source": [
        "frutas = [\"melon\", \"sandia\", \"kiwi\", \"aguacate\", \"mango\", \"platano\"]\r\n",
        "print(frutas)\r\n",
        "frutas[0] = \"Melón\"\r\n",
        "print(frutas)\r\n",
        "#frutas[1][0] = \"S\"\r\n",
        "frutas[1] = frutas[1].capitalize() \r\n",
        "print(frutas)\r\n"
      ],
      "execution_count": 36,
      "outputs": [
        {
          "output_type": "stream",
          "text": [
            "['melon', 'sandia', 'kiwi', 'aguacate', 'mango', 'platano']\n",
            "['Melón', 'sandia', 'kiwi', 'aguacate', 'mango', 'platano']\n",
            "['Melón', 'Sandia', 'kiwi', 'aguacate', 'mango', 'platano']\n"
          ],
          "name": "stdout"
        }
      ]
    },
    {
      "cell_type": "code",
      "metadata": {
        "colab": {
          "base_uri": "https://localhost:8080/"
        },
        "id": "nq4zRQSc2P7F",
        "outputId": "c4da0f05-21b4-4426-8062-9348a273da3e"
      },
      "source": [
        "#las listas son clases por lo tanto tienen metodos\r\n",
        "frutas = [\"melon\", \"sandia\", \"kiwi\", \"aguacate\", \"mango\", \"platano\"]\r\n",
        "frutas.append(\"fresas\")\r\n",
        "print(frutas)\r\n",
        "\r\n",
        "print(\"ejemplo de copias \")\r\n",
        "otras_frutas = frutas.copy()\r\n",
        "print(frutas)\r\n",
        "print(otras_frutas)\r\n",
        "otras_frutas[0] = \"chico Zapote\"\r\n",
        "print(\"---------\")\r\n",
        "print(otras_frutas)\r\n",
        "print(frutas)\r\n",
        "\r\n",
        "colores = [\"rojo\", \"verde\", \"azul\"]\r\n",
        "frutas.extend(colores)\r\n",
        "print(frutas)\r\n",
        "\r\n",
        "print(\"ejemplo insert\")\r\n",
        "print(f\"tamaño de la lista = { len(frutas) }\")\r\n",
        "frutas.insert(3, \"limon\")\r\n",
        "print(f\"tamaño de la lista = { len(frutas) }\")\r\n",
        "print(frutas)\r\n",
        "\r\n",
        "print(\"ejemplo remove, eliminar kiwi\")\r\n",
        "frutas.remove(\"kiwi\")\r\n",
        "print(frutas)\r\n",
        "\r\n",
        "print(\"ejemplo con operador \\\"del\\\"\")\r\n",
        "del frutas[2] #operador de listas \r\n",
        "print(frutas)\r\n",
        "\r\n",
        "frutas.clear()\r\n",
        "print(frutas)"
      ],
      "execution_count": 57,
      "outputs": [
        {
          "output_type": "stream",
          "text": [
            "['melon', 'sandia', 'kiwi', 'aguacate', 'mango', 'platano', 'fresas']\n",
            "ejemplo de copias \n",
            "['melon', 'sandia', 'kiwi', 'aguacate', 'mango', 'platano', 'fresas']\n",
            "['melon', 'sandia', 'kiwi', 'aguacate', 'mango', 'platano', 'fresas']\n",
            "---------\n",
            "['chico Zapote', 'sandia', 'kiwi', 'aguacate', 'mango', 'platano', 'fresas']\n",
            "['melon', 'sandia', 'kiwi', 'aguacate', 'mango', 'platano', 'fresas']\n",
            "['melon', 'sandia', 'kiwi', 'aguacate', 'mango', 'platano', 'fresas', 'rojo', 'verde', 'azul']\n",
            "ejemplo insert\n",
            "tamaño de la lista = 10\n",
            "tamaño de la lista = 11\n",
            "['melon', 'sandia', 'kiwi', 'limon', 'aguacate', 'mango', 'platano', 'fresas', 'rojo', 'verde', 'azul']\n",
            "ejemplo remove, eliminar kiwi\n",
            "['melon', 'sandia', 'limon', 'aguacate', 'mango', 'platano', 'fresas', 'rojo', 'verde', 'azul']\n",
            "ejemplo con operador \"del\"\n",
            "['melon', 'sandia', 'aguacate', 'mango', 'platano', 'fresas', 'rojo', 'verde', 'azul']\n",
            "[]\n"
          ],
          "name": "stdout"
        }
      ]
    },
    {
      "cell_type": "code",
      "metadata": {
        "colab": {
          "base_uri": "https://localhost:8080/"
        },
        "id": "y-1DC62H-8Bi",
        "outputId": "d841eb7c-9cdf-4ad1-8bd6-b79f4a5d46d0"
      },
      "source": [
        "cosas = [\"jose\", True, 2,3,4,5, \"pedro\", 1.23]\r\n",
        "a_eliminar = []\r\n",
        "indice = 0\r\n",
        "for elemento in cosas:\r\n",
        "\r\n",
        "  if isinstance(elemento, int):\r\n",
        "    print(\"entero\", elemento) #cosas.remove(elemto)\r\n",
        "    a_eliminar.append(indice)\r\n",
        "  indice += 1\r\n",
        "print(a_eliminar)\r\n",
        "for indice in a_eliminar:\r\n",
        "  print(indice, end = \" \")\r\n",
        "  cosas.remove(indice)\r\n",
        "  print(cosas)"
      ],
      "execution_count": 73,
      "outputs": [
        {
          "output_type": "stream",
          "text": [
            "entero True\n",
            "entero 2\n",
            "entero 3\n",
            "entero 4\n",
            "entero 5\n",
            "[1, 2, 3, 4, 5]\n",
            "1 ['jose', 2, 3, 4, 5, 'pedro', 1.23]\n",
            "2 ['jose', 3, 4, 5, 'pedro', 1.23]\n",
            "3 ['jose', 4, 5, 'pedro', 1.23]\n",
            "4 ['jose', 5, 'pedro', 1.23]\n",
            "5 ['jose', 'pedro', 1.23]\n"
          ],
          "name": "stdout"
        }
      ]
    },
    {
      "cell_type": "code",
      "metadata": {
        "colab": {
          "base_uri": "https://localhost:8080/"
        },
        "id": "cL_PYmT_2Z_s",
        "outputId": "28f91c97-7737-48a8-9e4e-ba8218400074"
      },
      "source": [
        "help(frutas)\r\n"
      ],
      "execution_count": 38,
      "outputs": [
        {
          "output_type": "stream",
          "text": [
            "Help on list object:\n",
            "\n",
            "class list(object)\n",
            " |  list() -> new empty list\n",
            " |  list(iterable) -> new list initialized from iterable's items\n",
            " |  \n",
            " |  Methods defined here:\n",
            " |  \n",
            " |  __add__(self, value, /)\n",
            " |      Return self+value.\n",
            " |  \n",
            " |  __contains__(self, key, /)\n",
            " |      Return key in self.\n",
            " |  \n",
            " |  __delitem__(self, key, /)\n",
            " |      Delete self[key].\n",
            " |  \n",
            " |  __eq__(self, value, /)\n",
            " |      Return self==value.\n",
            " |  \n",
            " |  __ge__(self, value, /)\n",
            " |      Return self>=value.\n",
            " |  \n",
            " |  __getattribute__(self, name, /)\n",
            " |      Return getattr(self, name).\n",
            " |  \n",
            " |  __getitem__(...)\n",
            " |      x.__getitem__(y) <==> x[y]\n",
            " |  \n",
            " |  __gt__(self, value, /)\n",
            " |      Return self>value.\n",
            " |  \n",
            " |  __iadd__(self, value, /)\n",
            " |      Implement self+=value.\n",
            " |  \n",
            " |  __imul__(self, value, /)\n",
            " |      Implement self*=value.\n",
            " |  \n",
            " |  __init__(self, /, *args, **kwargs)\n",
            " |      Initialize self.  See help(type(self)) for accurate signature.\n",
            " |  \n",
            " |  __iter__(self, /)\n",
            " |      Implement iter(self).\n",
            " |  \n",
            " |  __le__(self, value, /)\n",
            " |      Return self<=value.\n",
            " |  \n",
            " |  __len__(self, /)\n",
            " |      Return len(self).\n",
            " |  \n",
            " |  __lt__(self, value, /)\n",
            " |      Return self<value.\n",
            " |  \n",
            " |  __mul__(self, value, /)\n",
            " |      Return self*value.\n",
            " |  \n",
            " |  __ne__(self, value, /)\n",
            " |      Return self!=value.\n",
            " |  \n",
            " |  __new__(*args, **kwargs) from builtins.type\n",
            " |      Create and return a new object.  See help(type) for accurate signature.\n",
            " |  \n",
            " |  __repr__(self, /)\n",
            " |      Return repr(self).\n",
            " |  \n",
            " |  __reversed__(...)\n",
            " |      L.__reversed__() -- return a reverse iterator over the list\n",
            " |  \n",
            " |  __rmul__(self, value, /)\n",
            " |      Return value*self.\n",
            " |  \n",
            " |  __setitem__(self, key, value, /)\n",
            " |      Set self[key] to value.\n",
            " |  \n",
            " |  __sizeof__(...)\n",
            " |      L.__sizeof__() -- size of L in memory, in bytes\n",
            " |  \n",
            " |  append(...)\n",
            " |      L.append(object) -> None -- append object to end\n",
            " |  \n",
            " |  clear(...)\n",
            " |      L.clear() -> None -- remove all items from L\n",
            " |  \n",
            " |  copy(...)\n",
            " |      L.copy() -> list -- a shallow copy of L\n",
            " |  \n",
            " |  count(...)\n",
            " |      L.count(value) -> integer -- return number of occurrences of value\n",
            " |  \n",
            " |  extend(...)\n",
            " |      L.extend(iterable) -> None -- extend list by appending elements from the iterable\n",
            " |  \n",
            " |  index(...)\n",
            " |      L.index(value, [start, [stop]]) -> integer -- return first index of value.\n",
            " |      Raises ValueError if the value is not present.\n",
            " |  \n",
            " |  insert(...)\n",
            " |      L.insert(index, object) -- insert object before index\n",
            " |  \n",
            " |  pop(...)\n",
            " |      L.pop([index]) -> item -- remove and return item at index (default last).\n",
            " |      Raises IndexError if list is empty or index is out of range.\n",
            " |  \n",
            " |  remove(...)\n",
            " |      L.remove(value) -> None -- remove first occurrence of value.\n",
            " |      Raises ValueError if the value is not present.\n",
            " |  \n",
            " |  reverse(...)\n",
            " |      L.reverse() -- reverse *IN PLACE*\n",
            " |  \n",
            " |  sort(...)\n",
            " |      L.sort(key=None, reverse=False) -> None -- stable sort *IN PLACE*\n",
            " |  \n",
            " |  ----------------------------------------------------------------------\n",
            " |  Data and other attributes defined here:\n",
            " |  \n",
            " |  __hash__ = None\n",
            "\n"
          ],
          "name": "stdout"
        }
      ]
    },
    {
      "cell_type": "code",
      "metadata": {
        "colab": {
          "base_uri": "https://localhost:8080/"
        },
        "id": "z6hPdJZq3E2O",
        "outputId": "3b101cd6-60ed-456d-b959-3ecd1c7c07fb"
      },
      "source": [
        "#slicing sobre listas \r\n",
        "frutas = [\"melon\", \"sandia\", \"kiwi\", \"aguacate\", \"mango\", \"platano\"]\r\n",
        "\r\n",
        "print(frutas[1:4:])\r\n",
        "\r\n",
        "sistemas_operativos = [\"windows\", \"macos\", \"linux\", \"android\"]\r\n",
        "autos = [\"ford\", \"mazda\", \"honda\"]\r\n",
        "         \r\n",
        "cosas = [sistemas_operativos, autos]\r\n",
        "print(cosas)\r\n",
        "print(cosas[1])\r\n",
        "print(cosas[0][2])\r\n",
        "print(cosas[0][3][2:5:1])\r\n",
        "print(cosas[1][1][3:0:-1])\r\n"
      ],
      "execution_count": 86,
      "outputs": [
        {
          "output_type": "stream",
          "text": [
            "['sandia', 'kiwi', 'aguacate']\n",
            "[['windows', 'macos', 'linux', 'android'], ['ford', 'mazda', 'honda']]\n",
            "['ford', 'mazda', 'honda']\n",
            "linux\n",
            "dro\n",
            "dza\n"
          ],
          "name": "stdout"
        }
      ]
    }
  ]
}