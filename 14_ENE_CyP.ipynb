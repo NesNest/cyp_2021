{
  "nbformat": 4,
  "nbformat_minor": 0,
  "metadata": {
    "colab": {
      "name": "14_ENE_CyP.ipynb",
      "provenance": [],
      "authorship_tag": "ABX9TyP9CfpxCufTixTpipiuhbTK",
      "include_colab_link": true
    },
    "kernelspec": {
      "name": "python3",
      "display_name": "Python 3"
    }
  },
  "cells": [
    {
      "cell_type": "markdown",
      "metadata": {
        "id": "view-in-github",
        "colab_type": "text"
      },
      "source": [
        "<a href=\"https://colab.research.google.com/github/PlasticTramp/cyp_2021/blob/main/14_ENE_CyP.ipynb\" target=\"_parent\"><img src=\"https://colab.research.google.com/assets/colab-badge.svg\" alt=\"Open In Colab\"/></a>"
      ]
    },
    {
      "cell_type": "markdown",
      "metadata": {
        "id": "GjGitCtO5M2q"
      },
      "source": [
        "# palabras reservadas de python 3\r\n",
        "33\r\n",
        "1. False\r\n",
        "1. None\r\n",
        "1. True\r\n",
        "1. and\r\n",
        "1. as\r\n",
        "1. assert\r\n",
        "1. break\r\n",
        "1. class\r\n",
        "1. continue\r\n",
        "1. def\r\n",
        "1. del\r\n",
        "1. elif\r\n",
        "1. else\r\n",
        "1. except\r\n",
        "1. finally\r\n",
        "1. for\r\n",
        "1. from\r\n",
        "1. global\r\n",
        "1. if\r\n",
        "1. import\r\n",
        "1. in\r\n",
        "1. is\r\n",
        "1. lambda\r\n",
        "1. nonlocal\r\n",
        "1. not\r\n",
        "1. or\r\n",
        "1. pass\r\n",
        "1. raise\r\n",
        "1. return\r\n",
        "1. try\r\n",
        "1. while\r\n",
        "1. with\r\n",
        "1. yield"
      ]
    },
    {
      "cell_type": "code",
      "metadata": {
        "colab": {
          "base_uri": "https://localhost:8080/"
        },
        "id": "84myupx65brD",
        "outputId": "9429c489-b12d-42dd-a7c0-747d97d23a29"
      },
      "source": [
        "import keyword\r\n",
        "pr = keyword.kwlist\r\n",
        "print( len(pr))\r\n",
        "for palabra in pr:\r\n",
        "  print(\"1.\",palabra)\r\n"
      ],
      "execution_count": 5,
      "outputs": [
        {
          "output_type": "stream",
          "text": [
            "33\n",
            "1. False\n",
            "1. None\n",
            "1. True\n",
            "1. and\n",
            "1. as\n",
            "1. assert\n",
            "1. break\n",
            "1. class\n",
            "1. continue\n",
            "1. def\n",
            "1. del\n",
            "1. elif\n",
            "1. else\n",
            "1. except\n",
            "1. finally\n",
            "1. for\n",
            "1. from\n",
            "1. global\n",
            "1. if\n",
            "1. import\n",
            "1. in\n",
            "1. is\n",
            "1. lambda\n",
            "1. nonlocal\n",
            "1. not\n",
            "1. or\n",
            "1. pass\n",
            "1. raise\n",
            "1. return\n",
            "1. try\n",
            "1. while\n",
            "1. with\n",
            "1. yield\n"
          ],
          "name": "stdout"
        }
      ]
    },
    {
      "cell_type": "markdown",
      "metadata": {
        "id": "A6FIGDIE7Ccg"
      },
      "source": [
        "## variable \r\n",
        "es un espacio de memoria de la computadora para almacenar valores que cambian a lo largo de la ejecucucion del programa. Este espacio de memoria esta referenciado por un identificador, el cual tienen ciertas reglas de nombrado.\r\n",
        "- no puede iniciar con un numero.\r\n",
        "- no debe ser igual a alguna de las.palabras reservadas.\r\n",
        "- puede iniciar con guion bajo\r\n",
        "- evitar variables con nombres largos.\r\n",
        "- tambien evitar muy cortos com o de una sola letra. \r\n",
        "- usar notacion snake_case"
      ]
    },
    {
      "cell_type": "code",
      "metadata": {
        "colab": {
          "base_uri": "https://localhost:8080/",
          "height": 73
        },
        "id": "Yxnx2Wex7wlg",
        "outputId": "b5b31b25-c4cb-41ed-9a62-fdbc8607611e"
      },
      "source": [
        "_2edad = 12\r\n",
        "print(_2edad)\r\n",
        "\"\"\"\r\n",
        "no se puede usar una palabra reservada como identificador de variable.\r\n",
        "\r\n",
        "for = 12\r\n",
        "print(for)\r\n",
        "\"\"\""
      ],
      "execution_count": 11,
      "outputs": [
        {
          "output_type": "stream",
          "text": [
            "12\n"
          ],
          "name": "stdout"
        },
        {
          "output_type": "execute_result",
          "data": {
            "application/vnd.google.colaboratory.intrinsic+json": {
              "type": "string"
            },
            "text/plain": [
              "'\\nno se puede usar una palabra reservada como identificador de variable.\\n\\nfor = 12\\nprint(for)\\n'"
            ]
          },
          "metadata": {
            "tags": []
          },
          "execution_count": 11
        }
      ]
    },
    {
      "cell_type": "code",
      "metadata": {
        "id": "b16Mmh7W8ySl"
      },
      "source": [
        "\"\"\"\r\n",
        "La notación snake consta de formar el identificador de variable separando las palabras del mismo con un guion bajo\r\n",
        "\r\n",
        "Se recomienda que los identificadores se escribanm en minuscula para las variables, y en mayusculas para las constantes.\r\n",
        "\r\n",
        "Es decir si tenemos una variable para los dias de la semana, \r\n",
        "\r\n",
        "dias_de_la_semana = 7\r\n",
        "dias_mes = 31\r\n",
        "limite_maximo = 100\r\n",
        "\r\n",
        "\"\"\""
      ],
      "execution_count": null,
      "outputs": []
    },
    {
      "cell_type": "markdown",
      "metadata": {
        "id": "6mSQd3nb-CL-"
      },
      "source": [
        "# tipos de datos \r\n",
        "- Numericos.\r\n",
        "  - int     (1, 2,... 21345432, ...)\r\n",
        "  - float   (0.0, 1.0,...)\r\n",
        "  - long  (1.12342, 2.2434324, .....)\r\n",
        "  - complex [solo en algunos lenguajes] (raices negativas)\r\n",
        "  - boolenanos (True o False)\r\n",
        "  - string (cadena de caracteres (palabras))\r\n",
        "  - listas ([1,2,3,4], [2,3,4,5])\r\n",
        "  - tuplas (listas agrupadas por parentesis)\r\n",
        "  - conjuntos\r\n",
        "  - diccionarios ({\"nombre\":\"Juan\"})\r\n",
        "  "
      ]
    },
    {
      "cell_type": "markdown",
      "metadata": {
        "id": "vJzZxA5kEU5g"
      },
      "source": [
        "## string\r\n",
        "Este tipo de dato permite almacenar cadenas de caracteres.\r\n",
        "# ejemplo.\r\n",
        "- nom = \"Néstor\"\r\n",
        "- frases = \"los ecos del pasado resuenan en el presente\""
      ]
    },
    {
      "cell_type": "code",
      "metadata": {
        "colab": {
          "base_uri": "https://localhost:8080/"
        },
        "id": "nAoyxNEGFL5C",
        "outputId": "f3037dca-1754-4eef-8004-08e23e981dc9"
      },
      "source": [
        "nombre = \"nestor\"\r\n",
        "luga_naci = \"mexico df\"\r\n",
        "frase = \"os ecos del pasado resuenan en el presente\"\r\n",
        "print(nombre, luga_naci, frase)"
      ],
      "execution_count": 12,
      "outputs": [
        {
          "output_type": "stream",
          "text": [
            "nestor mexico df os ecos del pasado resuenan en el presente\n"
          ],
          "name": "stdout"
        }
      ]
    },
    {
      "cell_type": "markdown",
      "metadata": {
        "id": "b_mn5MifF0lh"
      },
      "source": [
        "# String como arreglo \r\n",
        "un string en puthon es almacenado como el tipo de dato (estructura de datos) arreglo.\r\n",
        "\r\n",
        "por ejemplo \r\n",
        "\r\n",
        "```\r\n",
        "nombre = \"néstor\"\r\n",
        "```\r\n",
        "el elemnto n es almacenado en un arreglo en la posicion 0.\r\n",
        "luego é en 1 y asi sucesivamente con cada letra del arreglo.\r\n",
        "\r\n",
        "### selector\r\n",
        "la notacion para seleccionar un elemento del arreglo es:\r\n",
        "```\r\n",
        "[ 1 ]\r\n",
        "```\r\n",
        "donde el valor interno debe ser un valor numerico entero.\r\n",
        "\r\n"
      ]
    },
    {
      "cell_type": "code",
      "metadata": {
        "colab": {
          "base_uri": "https://localhost:8080/"
        },
        "id": "hGUpIiSSGU7w",
        "outputId": "1c4781ea-8344-4f0a-96f9-aebbd1e992c3"
      },
      "source": [
        "nombre = \"Nèstor\"\r\n",
        "print(nombre)\r\n",
        "print(nombre[0])\r\n",
        "print(nombre[3])"
      ],
      "execution_count": 14,
      "outputs": [
        {
          "output_type": "stream",
          "text": [
            "Nèstor\n",
            "N\n",
            "t\n"
          ],
          "name": "stdout"
        }
      ]
    },
    {
      "cell_type": "markdown",
      "metadata": {
        "id": "S9i9nvG-H1rk"
      },
      "source": [
        "#interar sobre un string\r\n",
        "\r\n",
        "se puede iterar sobre un string con la forma:\r\n",
        "\r\n",
        "```\r\n",
        "for letra in range( len(nombre)):\r\n",
        "  print( letra )\r\n",
        "```\r\n",
        "\r\n",
        "len sirve para contar el numero de caracteres en un arreglo.\r\n"
      ]
    },
    {
      "cell_type": "code",
      "metadata": {
        "colab": {
          "base_uri": "https://localhost:8080/"
        },
        "id": "8HEifOC9IbCr",
        "outputId": "e847632e-8a3c-4c61-feb1-6e8a3245689a"
      },
      "source": [
        "for indice in range( len(nombre)):\r\n",
        "  print( str(indice + 1), end = \": \" )\r\n",
        "  print( nombre[indice] )"
      ],
      "execution_count": 26,
      "outputs": [
        {
          "output_type": "stream",
          "text": [
            "1: N\n",
            "2: è\n",
            "3: s\n",
            "4: t\n",
            "5: o\n",
            "6: r\n"
          ],
          "name": "stdout"
        }
      ]
    },
    {
      "cell_type": "markdown",
      "metadata": {
        "id": "Jj32mMpPKC6V"
      },
      "source": [
        "# funcion range[inicio, final, incremento]\r\n",
        "\r\n",
        "el inicio es opcional y por defecto su valor es 0\r\n",
        "\r\n",
        "el incremento tambien es incremento y su valor es 1\r\n",
        "\r\n",
        "el final si se debe especificar"
      ]
    },
    {
      "cell_type": "code",
      "metadata": {
        "colab": {
          "base_uri": "https://localhost:8080/"
        },
        "id": "RyA7PtrzJ5Rk",
        "outputId": "2818c87b-0a30-4f49-cc7e-197e4ea15d97"
      },
      "source": [
        "for indice in range(1, len(nombre), 2):\r\n",
        "  print(indice, end = \": \")\r\n",
        "  print(nombre[indice])"
      ],
      "execution_count": 35,
      "outputs": [
        {
          "output_type": "stream",
          "text": [
            "1: è\n",
            "3: t\n",
            "5: r\n"
          ],
          "name": "stdout"
        }
      ]
    },
    {
      "cell_type": "code",
      "metadata": {
        "colab": {
          "base_uri": "https://localhost:8080/"
        },
        "id": "ZGKYReLZK9D6",
        "outputId": "caa0ad8b-a9c7-4217-d2ce-89a591e5017d"
      },
      "source": [
        "for indice in range(5, -1, -1):\r\n",
        "  print(indice, end = \": \")\r\n",
        "  print(nombre[indice])"
      ],
      "execution_count": 49,
      "outputs": [
        {
          "output_type": "stream",
          "text": [
            "5: r\n",
            "4: o\n",
            "3: t\n",
            "2: s\n",
            "1: è\n",
            "0: N\n"
          ],
          "name": "stdout"
        }
      ]
    },
    {
      "cell_type": "markdown",
      "metadata": {
        "id": "QfCOYvRNL-_r"
      },
      "source": [
        "# string e indexado negativo\r\n",
        "en python 3 se agrega una nueva caracteristicas a los arreglos de las cadenas de caracteres, esta consta de la capacidad de indexar de forma negativa.\r\n",
        "\r\n",
        "la lógica es la siguiente.\r\n",
        "\r\n",
        "El ultimo elemento se considera como indice ()ALTENATIVO) -1, con lo cual se podria referenciar el final de la cadena sin la necesidad de saber el tamaño de la misma.\r\n",
        "\r\n",
        "```\r\n",
        "nombre = \"Néstor\"\r\n",
        "\r\n",
        "\r\n",
        "Indice normal         0  1  2  3  4  5\r\n",
        "                      N  e  s  t  o  r\r\n",
        "indice alternativo   -6 -5 -4 -3 -2 -1\r\n",
        "\r\n",
        "```"
      ]
    },
    {
      "cell_type": "code",
      "metadata": {
        "colab": {
          "base_uri": "https://localhost:8080/"
        },
        "id": "PP2M0zdYMn5M",
        "outputId": "bbba4364-09f4-4e3c-c49f-428561e5fc61"
      },
      "source": [
        "nombre = \"Néstor\"\r\n",
        "print(nombre[5])\r\n",
        "print(nombre[-1])"
      ],
      "execution_count": 51,
      "outputs": [
        {
          "output_type": "stream",
          "text": [
            "r\n",
            "r\n"
          ],
          "name": "stdout"
        }
      ]
    },
    {
      "cell_type": "markdown",
      "metadata": {
        "id": "LzGEOGEvP_P8"
      },
      "source": [
        "# Slicing de cadenas de caracteres \r\n",
        "\r\n",
        "nos permite sacar secciones de una cadena con la siguiente sintaxix:\r\n",
        "\r\n",
        "```\r\n",
        "[inicio:final:incremento]\r\n",
        "```\r\n",
        "\r\n",
        "se aplican las mismas reglas de los range[]"
      ]
    },
    {
      "cell_type": "code",
      "metadata": {
        "colab": {
          "base_uri": "https://localhost:8080/"
        },
        "id": "HRWN8Y56QiOE",
        "outputId": "ac53afa7-0ceb-494e-829d-a5b44da08b2e"
      },
      "source": [
        "facultad = \"Facultad de Estudios Superiores Aragón (La mejor)\"\r\n",
        "print(facultad)\r\n",
        "for indice in range(12, 20):\r\n",
        "  print(facultad[indice], end = \"\")\r\n",
        "\r\n",
        "print(\"\\ncon slicing\")\r\n",
        "print(facultad[12:20:1])"
      ],
      "execution_count": 63,
      "outputs": [
        {
          "output_type": "stream",
          "text": [
            "Facultad de Estudios Superiores Aragón (La mejor)\n",
            "Estudios\n",
            "con slicing\n",
            "Estudios\n"
          ],
          "name": "stdout"
        }
      ]
    }
  ]
}