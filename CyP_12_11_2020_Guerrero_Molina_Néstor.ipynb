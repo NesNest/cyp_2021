{
  "nbformat": 4,
  "nbformat_minor": 0,
  "metadata": {
    "colab": {
      "name": "CyP 12/11/2020 Guerrero Molina Néstor",
      "provenance": [],
      "collapsed_sections": [],
      "authorship_tag": "ABX9TyN3pbnID8x5y1s9a5thJFUw",
      "include_colab_link": true
    },
    "kernelspec": {
      "name": "python3",
      "display_name": "Python 3"
    }
  },
  "cells": [
    {
      "cell_type": "markdown",
      "metadata": {
        "id": "view-in-github",
        "colab_type": "text"
      },
      "source": [
        "<a href=\"https://colab.research.google.com/github/PlasticTramp/cyp_2021/blob/main/CyP_12_11_2020_Guerrero_Molina_N%C3%A9stor.ipynb\" target=\"_parent\"><img src=\"https://colab.research.google.com/assets/colab-badge.svg\" alt=\"Open In Colab\"/></a>"
      ]
    },
    {
      "cell_type": "code",
      "metadata": {
        "id": "s5igYcMBeR9V",
        "outputId": "540c076f-5e95-4608-abf3-ff4b805dc50a",
        "colab": {
          "base_uri": "https://localhost:8080/"
        }
      },
      "source": [
        "numero=int (input(\"dame un nuemro \"))\n",
        "if numero >0:\n",
        "  print(\"el numero es positivo\")\n",
        "\n",
        "print(\"fin del programa\")"
      ],
      "execution_count": null,
      "outputs": [
        {
          "output_type": "stream",
          "text": [
            "dame un nuemro-5\n",
            "el numero es negativo\n",
            "fin del programa\n"
          ],
          "name": "stdout"
        }
      ]
    },
    {
      "cell_type": "code",
      "metadata": {
        "id": "otRhn-IFfPoT",
        "outputId": "7699d687-4ee2-47c1-e892-a57a10b47eda",
        "colab": {
          "base_uri": "https://localhost:8080/"
        }
      },
      "source": [
        "numero=int (input(\"dame un numero \"))\n",
        "if numero >0:\n",
        "  print(\"el nunmero es positivo\")\n",
        "else:\n",
        "\n",
        "  print(\"el numero es negativo\")\n",
        "print(\"fin del program\")"
      ],
      "execution_count": null,
      "outputs": [
        {
          "output_type": "stream",
          "text": [
            "dame un numero 3\n",
            "el nunmero es positivo\n",
            "fin del program\n"
          ],
          "name": "stdout"
        }
      ]
    },
    {
      "cell_type": "code",
      "metadata": {
        "id": "aYbeVRqKtHnl",
        "outputId": "ce52fbb1-ef99-465b-a167-6f1d6d8009e4",
        "colab": {
          "base_uri": "https://localhost:8080/"
        }
      },
      "source": [
        "numero=int (input(\"dame un numero \"))\n",
        "if numero >0:\n",
        "  print(\"el nunmero es positivo\")\n",
        "elif numero == 0:\n",
        "  print(\"el numero es cero\")\n",
        "else:\n",
        "  print(\"el numero es negativo\")\n",
        "print(\"fin del program\")"
      ],
      "execution_count": 10,
      "outputs": [
        {
          "output_type": "stream",
          "text": [
            "dame un numero 0\n",
            "el numero es cero\n",
            "fin del program\n"
          ],
          "name": "stdout"
        }
      ]
    }
  ]
}