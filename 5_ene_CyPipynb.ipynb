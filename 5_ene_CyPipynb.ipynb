{
  "nbformat": 4,
  "nbformat_minor": 0,
  "metadata": {
    "colab": {
      "name": "5_ene_CyPipynb",
      "provenance": [],
      "authorship_tag": "ABX9TyOOZtMCyhBhLI3PHShmX09g",
      "include_colab_link": true
    },
    "kernelspec": {
      "name": "python3",
      "display_name": "Python 3"
    }
  },
  "cells": [
    {
      "cell_type": "markdown",
      "metadata": {
        "id": "view-in-github",
        "colab_type": "text"
      },
      "source": [
        "<a href=\"https://colab.research.google.com/github/PlasticTramp/cyp_2021/blob/main/5_ene_CyPipynb.ipynb\" target=\"_parent\"><img src=\"https://colab.research.google.com/assets/colab-badge.svg\" alt=\"Open In Colab\"/></a>"
      ]
    },
    {
      "cell_type": "code",
      "metadata": {
        "colab": {
          "base_uri": "https://localhost:8080/"
        },
        "id": "b3IeGLlujMQM",
        "outputId": "52b1d71d-1176-4b69-9e5b-6d7907554c68"
      },
      "source": [
        "sueldos = [0.0 for x in range(7)]\r\n",
        "print(sueldos) \r\n",
        "sueldos[0] = 12.3\r\n",
        "sueldos[1] = 32.3\r\n",
        "sueldos[2] = 43.3\r\n",
        "sueldos[3] = 11.3\r\n",
        "sueldos[4] = 77.3\r\n",
        "sueldos[5] = 88.3\r\n",
        "sueldos[6] = 99.3\r\n",
        "print(sueldos)\r\n",
        "\r\n",
        "sueldo = [float(x) for x in range(7)] \r\n",
        "for j in range(7):\r\n",
        "  sueldo[j] = float(1 + j)\r\n",
        "print(sueldo)\r\n",
        "\r\n",
        "\r\n",
        "for i in range(7):\r\n",
        "  print(f\"el trabajador {int(i) + 1} gana ${sueldo[i] }\")\r\n"
      ],
      "execution_count": 17,
      "outputs": [
        {
          "output_type": "stream",
          "text": [
            "[0.0, 0.0, 0.0, 0.0, 0.0, 0.0, 0.0]\n",
            "[12.3, 32.3, 43.3, 11.3, 77.3, 88.3, 99.3]\n",
            "[1.0, 2.0, 3.0, 4.0, 5.0, 6.0, 7.0]\n",
            "el trabajador 1 gana $1.0\n",
            "el trabajador 2 gana $2.0\n",
            "el trabajador 3 gana $3.0\n",
            "el trabajador 4 gana $4.0\n",
            "el trabajador 5 gana $5.0\n",
            "el trabajador 6 gana $6.0\n",
            "el trabajador 7 gana $7.0\n"
          ],
          "name": "stdout"
        }
      ]
    },
    {
      "cell_type": "code",
      "metadata": {
        "colab": {
          "base_uri": "https://localhost:8080/"
        },
        "id": "mQVlmKgyl7A0",
        "outputId": "77c22a8b-82ca-4900-fe0e-cfb30dc3f9e8"
      },
      "source": [
        "#problema 4.1\r\n",
        "max = 7\r\n",
        "suma = 0\r\n",
        "sueldos = [0.0 for x in range(max)]\r\n",
        "\r\n",
        "for i in range(7):\r\n",
        "  sueldos[i] = float(input(f\"dame el sueldo {i + 1} \"))\r\n",
        "\r\n",
        "for i in range(7):\r\n",
        "  print(f\"el trabajador {i + 1} gana ${sueldos[i]} \")\r\n",
        "\r\n",
        "for i in range( max ):\r\n",
        "  suma = suma + sueldos[i]\r\n",
        "  \r\n",
        "promedio = suma / max\r\n",
        "print(f\"el promedio de sueldos es $ es {promedio:.2f}\")\r\n",
        "\r\n",
        "for i in range( max ):\r\n",
        "  if sueldos[i] > promedio:\r\n",
        "    print(f\"el trabajador  {i + 1} tiene un sueldo mayor al promedio \") "
      ],
      "execution_count": 21,
      "outputs": [
        {
          "output_type": "stream",
          "text": [
            "dame el sueldo 1 43\n",
            "dame el sueldo 2 6\n",
            "dame el sueldo 3 3\n",
            "dame el sueldo 4 8\n",
            "dame el sueldo 5 5\n",
            "dame el sueldo 6 4\n",
            "dame el sueldo 7 5\n",
            "el trabajador 1 gana $43.0 \n",
            "el trabajador 2 gana $6.0 \n",
            "el trabajador 3 gana $3.0 \n",
            "el trabajador 4 gana $8.0 \n",
            "el trabajador 5 gana $5.0 \n",
            "el trabajador 6 gana $4.0 \n",
            "el trabajador 7 gana $5.0 \n",
            "el promedio de sueldos es $ es 10.57\n",
            "el trabajador  1 tiene un sueldo mayor al promedio \n"
          ],
          "name": "stdout"
        }
      ]
    },
    {
      "cell_type": "code",
      "metadata": {
        "colab": {
          "base_uri": "https://localhost:8080/"
        },
        "id": "V8peCoCis6lm",
        "outputId": "e7ff30fe-0ca8-4365-8392-6244c88638c6"
      },
      "source": [
        "num = [0.0 for x in range(5)]\r\n",
        "may = 0\r\n",
        "men = 0\r\n",
        "sum = 0\r\n",
        "pro = 0\r\n",
        "\r\n",
        "for i in range(5):\r\n",
        "  num[i] = int(input(\"digite un numero \"))\r\n",
        "\r\n",
        "if may == 0 and men == 0:\r\n",
        " men = num[i]\r\n",
        " may = num[i]\r\n",
        "\r\n",
        "if num[i] > may:\r\n",
        "  num[i] = may\r\n",
        "\r\n",
        "if num[i] < men:\r\n",
        "  num[i] = men\r\n",
        "\r\n",
        "sum = sum + num[i]\r\n",
        "pro = sum / 5\r\n",
        "\r\n",
        "print(f\"el promedio es {pro:.2f} mientras que el numero menor es {men} y el mayor es {may}\")"
      ],
      "execution_count": 28,
      "outputs": [
        {
          "output_type": "stream",
          "text": [
            "digite un numero 4\n",
            "digite un numero 5\n",
            "digite un numero 6\n",
            "digite un numero 2\n",
            "digite un numero 7\n",
            "7\n",
            "el promedio es 1.4 mientras que el numero menor es 7 y el mayor es 7\n"
          ],
          "name": "stdout"
        }
      ]
    },
    {
      "cell_type": "code",
      "metadata": {
        "id": "dR80vCkpxB9b"
      },
      "source": [
        "#problem 4.4\r\n",
        "n = int(input(\"ingrese un numero de elementos para el arreglo: \"))\r\n",
        "\r\n",
        "if (1 <= n) and (500 >= n):\r\n",
        "  vec = [0 for x in range(n)]\r\n",
        "  for i in range(n): \r\n",
        "    vec[i] = int(input(\"ingrese un valor \" + str(i + 1) +\": \"))\r\n",
        "  print(\"lista de numeros sin repeticiones \")\r\n",
        "\r\n",
        "  while i < n:\r\n",
        "    print(vec[i])\r\n",
        "    REPET = vec[i]\r\n",
        "    while (n >= i) and (REPET == vec[i]):\r\n",
        "      i = i + 1\r\n",
        "else:\r\n",
        "  print(\"el numero de elementos del arreglo es incorrecto \") \r\n"
      ],
      "execution_count": null,
      "outputs": []
    }
  ]
}