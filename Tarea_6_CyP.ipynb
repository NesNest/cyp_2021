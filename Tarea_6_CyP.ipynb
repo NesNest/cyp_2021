{
  "nbformat": 4,
  "nbformat_minor": 0,
  "metadata": {
    "colab": {
      "name": "Tarea_6_CyP.ipynb",
      "provenance": [],
      "collapsed_sections": [],
      "authorship_tag": "ABX9TyO78xBR6ApRQxjFjHLn1VUN",
      "include_colab_link": true
    },
    "kernelspec": {
      "name": "python3",
      "display_name": "Python 3"
    }
  },
  "cells": [
    {
      "cell_type": "markdown",
      "metadata": {
        "id": "view-in-github",
        "colab_type": "text"
      },
      "source": [
        "<a href=\"https://colab.research.google.com/github/PlasticTramp/cyp_2021/blob/main/Tarea_6_CyP.ipynb\" target=\"_parent\"><img src=\"https://colab.research.google.com/assets/colab-badge.svg\" alt=\"Open In Colab\"/></a>"
      ]
    },
    {
      "cell_type": "code",
      "metadata": {
        "colab": {
          "base_uri": "https://localhost:8080/"
        },
        "id": "G07CKoaXmVAL",
        "outputId": "76a2a392-d1a2-4aec-e322-cb66cabb044b"
      },
      "source": [
        "#problema 3.3  suma de una serie\r\n",
        "serie = 0\r\n",
        "N = int(input(\"teclee un numero \"))\r\n",
        "band = True\r\n",
        "I = 1\r\n",
        "while I <= N:\r\n",
        "  if band == True:\r\n",
        "    serie = serie + (1/I)\r\n",
        "    band = False\r\n",
        "  else:\r\n",
        "    serie = serie - (1/I)\r\n",
        "    band = True\r\n",
        "  I = I + 1\r\n",
        "print(serie)\r\n",
        "  \r\n"
      ],
      "execution_count": 1,
      "outputs": [
        {
          "output_type": "stream",
          "text": [
            "teclee un numero 9\n",
            "0.7456349206349207\n"
          ],
          "name": "stdout"
        }
      ]
    },
    {
      "cell_type": "code",
      "metadata": {
        "colab": {
          "base_uri": "https://localhost:8080/"
        },
        "id": "42bQFGIlum16",
        "outputId": "ad6e42ac-5c42-446d-e7ed-e1d1b246e22c"
      },
      "source": [
        "#problema 3.4 nomina \r\n",
        "nom = 0\r\n",
        "sue = float(input(\"ingrese los sueldos de los trabajadores, cuando termine ingrese '-1' \\n$\"))\r\n",
        "while sue > -1:\r\n",
        "  if sue < 1000:\r\n",
        "    nsue = sue * 1.15\r\n",
        "  else:\r\n",
        "    nsue = sue * 1.12\r\n",
        "  nom = nom + nsue\r\n",
        "  print(f\"el sueldo con el aumento es ${nsue:.2f}\")\r\n",
        "  sue = float(input(\"ingrese otro sueldo $\"))\r\n",
        "print(f\"la nomina es ${nom} \")"
      ],
      "execution_count": null,
      "outputs": [
        {
          "output_type": "stream",
          "text": [
            "ingrese los sueldos de los trabajadores, cuando termine ingrese '-1' \n",
            "$123\n",
            "el sueldo con el aumento es $141.45\n",
            "ingrese otro sueldo $2134\n",
            "el sueldo con el aumento es $2390.08\n",
            "ingrese otro sueldo $1234\n",
            "el sueldo con el aumento es $1382.08\n",
            "ingrese otro sueldo $2134\n",
            "el sueldo con el aumento es $2390.08\n",
            "ingrese otro sueldo $23\n",
            "el sueldo con el aumento es $26.45\n",
            "ingrese otro sueldo $65\n",
            "el sueldo con el aumento es $74.75\n",
            "ingrese otro sueldo $234\n",
            "el sueldo con el aumento es $269.10\n",
            "ingrese otro sueldo $-1\n",
            "la nomina es $6673.990000000001 \n"
          ],
          "name": "stdout"
        }
      ]
    },
    {
      "cell_type": "code",
      "metadata": {
        "colab": {
          "base_uri": "https://localhost:8080/"
        },
        "id": "_--PMZesyXY7",
        "outputId": "39c1d3ea-d83c-4366-a253-0873bb99a62f"
      },
      "source": [
        "#problema 3.5 suma de enteros\r\n",
        "sumotr = 0\r\n",
        "sumpos = 0\r\n",
        "cuepos = 0\r\n",
        "I = 1\r\n",
        "N = int(input(\"¿cuantos numeros va a escribir? \"))\r\n",
        "while I <= N:\r\n",
        "  num = int(input(\"agrege un numero \"))\r\n",
        "  if num > 0:\r\n",
        "    sumpos = sumpos + num\r\n",
        "    cuepos = cuepos + 1\r\n",
        "  else:\r\n",
        "    sumotr = sumotr + num\r\n",
        "  I = I + 1\r\n",
        "\r\n",
        "progen = (sumpos + sumotr) / N\r\n",
        "propos = sumpos / cuepos\r\n",
        "print(f\"Hubo {cuepos} numeros mayores que cero \\nEl promedio de los positivos fue {propos:.2f} \\nY el promedio de todos los numeros fue {progen:.2f}\")\r\n"
      ],
      "execution_count": null,
      "outputs": [
        {
          "output_type": "stream",
          "text": [
            "¿cuantos numeros va a escribir? 6\n",
            "agrege un numero 1234\n",
            "agrege un numero -123\n",
            "agrege un numero 546\n",
            "agrege un numero -123\n",
            "agrege un numero 123\n",
            "agrege un numero -56\n",
            "Hubo 3 numeros mayores que cero \n",
            "El promedio de los positivos fue 634.33 \n",
            "Y el promedio de todos los numeros fue 266.83\n"
          ],
          "name": "stdout"
        }
      ]
    },
    {
      "cell_type": "code",
      "metadata": {
        "colab": {
          "base_uri": "https://localhost:8080/"
        },
        "id": "iQvbxGeV2p4T",
        "outputId": "814168b2-45eb-49a0-9a7c-cf22d6e2b01e"
      },
      "source": [
        "# problema 3.6 calculo del menor al mayor\r\n",
        "may = 0\r\n",
        "men = 0\r\n",
        "N = int(input(\"¿cuantos numeros va a escribir? \"))\r\n",
        "I = 1\r\n",
        "while I <= N:\r\n",
        "  num = int(input(\"agrege un numero \"))\r\n",
        "  if men == 0 and may == 0: # agregue esta condicion para que el primer numero se fuera directo a menor y mayor\r\n",
        "    men = num\r\n",
        "    may = num\r\n",
        "  if num > may:\r\n",
        "    may = num\r\n",
        "  if num < men:\r\n",
        "    men = num\r\n",
        "  I = I + 1\r\n",
        "print(f\"El numero {may} es el mayor \\nEl numero {men} es el menor\")\r\n",
        "\r\n",
        "\r\n"
      ],
      "execution_count": null,
      "outputs": [
        {
          "output_type": "stream",
          "text": [
            "¿cuantos numeros va a escribir? 4\n",
            "agrege un numero 213456\n",
            "agrege un numero -123456\n",
            "agrege un numero 0\n",
            "agrege un numero 5\n",
            "El numero 213456 es el mayor \n",
            "El numero -123456 es el menor\n"
          ],
          "name": "stdout"
        }
      ]
    },
    {
      "cell_type": "code",
      "metadata": {
        "colab": {
          "base_uri": "https://localhost:8080/"
        },
        "id": "IY9TJCxJ7ZMP",
        "outputId": "0093fc85-995d-4f34-d682-0cb08269d7d2"
      },
      "source": [
        "#problema 3.7 ventas de un vendedor\r\n",
        "men = 0\r\n",
        "med = 0\r\n",
        "may = 0\r\n",
        "N = int(input(\"¿cuantas ventas tuvó? \"))\r\n",
        "I = 1\r\n",
        "while I <= N:\r\n",
        "  num = float(input(\"agregue de cuanto fue la venta $\"))\r\n",
        "  if num <= 200:\r\n",
        "    men = men + 1 \r\n",
        "  if 200 < num < 400:\r\n",
        "    med = med + 1\r\n",
        "  if num >= 400:\r\n",
        "    may = may + 1\r\n",
        "  I = I + 1\r\n",
        "print(f\"Hubo {men} ventas menores o iguales a $200 \\nHubo {med} ventas entre $200 y $400 \\nHubo {may} mayores o iguales a $400\")\r\n",
        "  "
      ],
      "execution_count": null,
      "outputs": [
        {
          "output_type": "stream",
          "text": [
            "¿cuantas ventas tuvó? 12\n",
            "agregue de cuanto fue la venta $180\n",
            "agregue de cuanto fue la venta $479\n",
            "agregue de cuanto fue la venta $150\n",
            "agregue de cuanto fue la venta $88\n",
            "agregue de cuanto fue la venta $230\n",
            "agregue de cuanto fue la venta $170\n",
            "agregue de cuanto fue la venta $40\n",
            "agregue de cuanto fue la venta $201\n",
            "agregue de cuanto fue la venta $60\n",
            "agregue de cuanto fue la venta $280\n",
            "agregue de cuanto fue la venta $15\n",
            "agregue de cuanto fue la venta $140\n",
            "Hubo 8 ventas menores o iguales a $200 \n",
            "Hubo 3 ventas entre $200 y $400 \n",
            "Hubo 1 mayores o iguales a $400\n"
          ],
          "name": "stdout"
        }
      ]
    },
    {
      "cell_type": "code",
      "metadata": {
        "colab": {
          "base_uri": "https://localhost:8080/"
        },
        "id": "fYP7LP_bAoxr",
        "outputId": "2ee17b10-7faf-4364-fa28-976336d949a1"
      },
      "source": [
        "#problema 3.8 conjetura de ULAM\r\n",
        "num = int(input(\"ingrese un numero \\n\"))\r\n",
        "if num > 0:\r\n",
        "  while num != 1:\r\n",
        "   print(num, end = \"  \")\r\n",
        "   if (((-1) ** num) > 0):\r\n",
        "    num = num / 2\r\n",
        "   else:\r\n",
        "    num = num * 3 + 1\r\n",
        "  print(num)\r\n",
        "else:\r\n",
        "  print(\"debe ingresar un numero valido\")\r\n"
      ],
      "execution_count": null,
      "outputs": [
        {
          "output_type": "stream",
          "text": [
            "ingrese un numero \n",
            "25\n",
            "25  76  38.0  19.0  58.0  29.0  88.0  44.0  22.0  11.0  34.0  17.0  52.0  26.0  13.0  40.0  20.0  10.0  5.0  16.0  8.0  4.0  2.0  1.0\n"
          ],
          "name": "stdout"
        }
      ]
    },
    {
      "cell_type": "code",
      "metadata": {
        "id": "tC473VDJC0J4",
        "colab": {
          "base_uri": "https://localhost:8080/"
        },
        "outputId": "a57f0b41-e66a-48ce-d9bc-49bdd2381e0b"
      },
      "source": [
        "# problema 3.9 suma de serie con potencia\r\n",
        "serie = 0\r\n",
        "N = int(input(\"Ingrese el numero de terminos de la serie \\n\"))\r\n",
        "I = 1\r\n",
        "while I <= N:\r\n",
        "  serie = serie + (I ** I)\r\n",
        "  I = I  + 1\r\n",
        "print(serie)\r\n"
      ],
      "execution_count": null,
      "outputs": [
        {
          "output_type": "stream",
          "text": [
            "Ingrese el numero de terminos de la serie \n",
            "5\n",
            "288\n"
          ],
          "name": "stdout"
        }
      ]
    },
    {
      "cell_type": "code",
      "metadata": {
        "colab": {
          "base_uri": "https://localhost:8080/"
        },
        "id": "SwWeAXZsV9Mm",
        "outputId": "f94e30dc-6822-4ecb-8006-5c2b28a4107f"
      },
      "source": [
        "# problema 3.10 secuencia de fibonacci\r\n",
        "pri = 1\r\n",
        "seg = 0\r\n",
        "sig = 0\r\n",
        "\"\"\"\r\n",
        "tuve que cabiar el I a 3 a igual a 0, \r\n",
        "de lo contrario no me daba los 180 terminos, \r\n",
        "tambien meti el print dentro del while, \r\n",
        "antes solo me daba el ultimo termino\r\n",
        "\"\"\"\r\n",
        "I = 0\r\n",
        "while I < 180:\r\n",
        "  print({I},sig, end = \", \")\r\n",
        "  sig = pri + seg\r\n",
        "  pri = seg\r\n",
        "  seg = sig\r\n",
        "  I = I + 1\r\n",
        "  "
      ],
      "execution_count": null,
      "outputs": [
        {
          "output_type": "stream",
          "text": [
            "{1} 0, {2} 1, {3} 1, {4} 2, {5} 3, {6} 5, {7} 8, {8} 13, {9} 21, {10} 34, {11} 55, {12} 89, {13} 144, {14} 233, {15} 377, {16} 610, {17} 987, {18} 1597, {19} 2584, {20} 4181, {21} 6765, {22} 10946, {23} 17711, {24} 28657, {25} 46368, {26} 75025, {27} 121393, {28} 196418, {29} 317811, {30} 514229, {31} 832040, {32} 1346269, {33} 2178309, {34} 3524578, {35} 5702887, {36} 9227465, {37} 14930352, {38} 24157817, {39} 39088169, {40} 63245986, {41} 102334155, {42} 165580141, {43} 267914296, {44} 433494437, {45} 701408733, {46} 1134903170, {47} 1836311903, {48} 2971215073, {49} 4807526976, {50} 7778742049, {51} 12586269025, {52} 20365011074, {53} 32951280099, {54} 53316291173, {55} 86267571272, {56} 139583862445, {57} 225851433717, {58} 365435296162, {59} 591286729879, {60} 956722026041, {61} 1548008755920, {62} 2504730781961, {63} 4052739537881, {64} 6557470319842, {65} 10610209857723, {66} 17167680177565, {67} 27777890035288, {68} 44945570212853, {69} 72723460248141, {70} 117669030460994, {71} 190392490709135, {72} 308061521170129, {73} 498454011879264, {74} 806515533049393, {75} 1304969544928657, {76} 2111485077978050, {77} 3416454622906707, {78} 5527939700884757, {79} 8944394323791464, {80} 14472334024676221, {81} 23416728348467685, {82} 37889062373143906, {83} 61305790721611591, {84} 99194853094755497, {85} 160500643816367088, {86} 259695496911122585, {87} 420196140727489673, {88} 679891637638612258, {89} 1100087778366101931, {90} 1779979416004714189, {91} 2880067194370816120, {92} 4660046610375530309, {93} 7540113804746346429, {94} 12200160415121876738, {95} 19740274219868223167, {96} 31940434634990099905, {97} 51680708854858323072, {98} 83621143489848422977, {99} 135301852344706746049, {100} 218922995834555169026, {101} 354224848179261915075, {102} 573147844013817084101, {103} 927372692193078999176, {104} 1500520536206896083277, {105} 2427893228399975082453, {106} 3928413764606871165730, {107} 6356306993006846248183, {108} 10284720757613717413913, {109} 16641027750620563662096, {110} 26925748508234281076009, {111} 43566776258854844738105, {112} 70492524767089125814114, {113} 114059301025943970552219, {114} 184551825793033096366333, {115} 298611126818977066918552, {116} 483162952612010163284885, {117} 781774079430987230203437, {118} 1264937032042997393488322, {119} 2046711111473984623691759, {120} 3311648143516982017180081, {121} 5358359254990966640871840, {122} 8670007398507948658051921, {123} 14028366653498915298923761, {124} 22698374052006863956975682, {125} 36726740705505779255899443, {126} 59425114757512643212875125, {127} 96151855463018422468774568, {128} 155576970220531065681649693, {129} 251728825683549488150424261, {130} 407305795904080553832073954, {131} 659034621587630041982498215, {132} 1066340417491710595814572169, {133} 1725375039079340637797070384, {134} 2791715456571051233611642553, {135} 4517090495650391871408712937, {136} 7308805952221443105020355490, {137} 11825896447871834976429068427, {138} 19134702400093278081449423917, {139} 30960598847965113057878492344, {140} 50095301248058391139327916261, {141} 81055900096023504197206408605, {142} 131151201344081895336534324866, {143} 212207101440105399533740733471, {144} 343358302784187294870275058337, {145} 555565404224292694404015791808, {146} 898923707008479989274290850145, {147} 1454489111232772683678306641953, {148} 2353412818241252672952597492098, {149} 3807901929474025356630904134051, {150} 6161314747715278029583501626149, {151} 9969216677189303386214405760200, {152} 16130531424904581415797907386349, {153} 26099748102093884802012313146549, {154} 42230279526998466217810220532898, {155} 68330027629092351019822533679447, {156} 110560307156090817237632754212345, {157} 178890334785183168257455287891792, {158} 289450641941273985495088042104137, {159} 468340976726457153752543329995929, {160} 757791618667731139247631372100066, {161} 1226132595394188293000174702095995, {162} 1983924214061919432247806074196061, {163} 3210056809456107725247980776292056, {164} 5193981023518027157495786850488117, {165} 8404037832974134882743767626780173, {166} 13598018856492162040239554477268290, {167} 22002056689466296922983322104048463, {168} 35600075545958458963222876581316753, {169} 57602132235424755886206198685365216, {170} 93202207781383214849429075266681969, {171} 150804340016807970735635273952047185, {172} 244006547798191185585064349218729154, {173} 394810887814999156320699623170776339, {174} 638817435613190341905763972389505493, {175} 1033628323428189498226463595560281832, {176} 1672445759041379840132227567949787325, {177} 2706074082469569338358691163510069157, {178} 4378519841510949178490918731459856482, {179} 7084593923980518516849609894969925639, {180} 11463113765491467695340528626429782121, "
          ],
          "name": "stdout"
        }
      ]
    },
    {
      "cell_type": "code",
      "metadata": {
        "colab": {
          "base_uri": "https://localhost:8080/"
        },
        "id": "ZxEx3bzYaBHr",
        "outputId": "62838496-ab1d-406b-f034-776a4508f03e"
      },
      "source": [
        "# problema 3.11\r\n",
        "can1 = 0\r\n",
        "can2 = 0\r\n",
        "can3 = 0\r\n",
        "can4 = 0\r\n",
        "votin = 0 #voto invalido si se mete un numero diferente a 0,1,2,3,4\r\n",
        "vot = int(input(\"ingrese el numero del candidato: \"))\r\n",
        "while vot != 0:\r\n",
        "  if vot == 1:\r\n",
        "    can1 = can1 + 1\r\n",
        "  if vot == 2:\r\n",
        "    can2 = can2 + 1\r\n",
        "  if vot == 3:\r\n",
        "    can3 = can3 + 1\r\n",
        "  if vot == 4:\r\n",
        "    can4 = can4 + 1\r\n",
        "  else:\r\n",
        "    votin = votin + 1\r\n",
        "  vot = int(input(\"ingrese el numero del candidato: \"))\r\n",
        "sumv = can1 + can2 + can3 + can4\r\n",
        "por1 = (can1 / sumv) * 100\r\n",
        "por2 = (can2 / sumv) * 100\r\n",
        "por3 = (can3 / sumv) * 100\r\n",
        "por4 = (can4 / sumv) * 100\r\n",
        "\r\n",
        "print(f\"Hubo {sumv} votantes \\nEl participante 1 tuvo {can1} votos con un porcentaje del {por1:.2f}% \\nEl participante 2 tuvo {can2} votos con un porcentaje del {por2:.2f}% \\nEl participante 3 tuvo {can3} votos con un porcentaje del {por3:.2f}% \\nEl participante 4 tuvo {can4} votos con un porcentaje del {por4:.2f}%\")\r\n"
      ],
      "execution_count": null,
      "outputs": [
        {
          "output_type": "stream",
          "text": [
            "ingrese el numero del candidato: 1\n",
            "ingrese el numero del candidato: 3\n",
            "ingrese el numero del candidato: 1\n",
            "ingrese el numero del candidato: 4\n",
            "ingrese el numero del candidato: 2\n",
            "ingrese el numero del candidato: 2\n",
            "ingrese el numero del candidato: 1\n",
            "ingrese el numero del candidato: 4\n",
            "ingrese el numero del candidato: 1\n",
            "ingrese el numero del candidato: 1\n",
            "ingrese el numero del candidato: 1\n",
            "ingrese el numero del candidato: 2\n",
            "ingrese el numero del candidato: 1\n",
            "ingrese el numero del candidato: 3\n",
            "ingrese el numero del candidato: 1\n",
            "ingrese el numero del candidato: 4\n",
            "ingrese el numero del candidato: 0\n",
            "Hubo 16 votantes \n",
            "El participante 1 tuvo 8 votos con un porcentaje del 50.00% \n",
            "El participante 2 tuvo 3 votos con un porcentaje del 18.75% \n",
            "El participante 3 tuvo 2 votos con un porcentaje del 12.50% \n",
            "El participante 4 tuvo 3 votos con un porcentaje del 18.75%\n"
          ],
          "name": "stdout"
        }
      ]
    },
    {
      "cell_type": "code",
      "metadata": {
        "colab": {
          "base_uri": "https://localhost:8080/"
        },
        "id": "arxXZpBuemQq",
        "outputId": "f96621a3-477e-4028-eb5e-5f8635273d40"
      },
      "source": [
        "# problema 3.12 mayor sueldo \r\n",
        "masuel = 0\r\n",
        "numen = 0\r\n",
        "n = int(input(\"ingrese el numero de empleados \"))\r\n",
        "I = 1\r\n",
        "\r\n",
        "while I <= n:\r\n",
        "  numen = numen + 1\r\n",
        "  sue = float(input(f\"ingrese el sueldo del empleado {numen}: $\"))\r\n",
        "  if sue > masuel:\r\n",
        "    masuel = sue\r\n",
        "    manum = numen\r\n",
        "  I = I + 1\r\n",
        "print(f\"el empleado numero {manum} es el salario màs alto, ganando ${masuel} \")\r\n"
      ],
      "execution_count": null,
      "outputs": [
        {
          "output_type": "stream",
          "text": [
            "ingrese el numero de empleados 5\n",
            "ingrese el sueldo del empleado 1: $123456\n",
            "ingrese el sueldo del empleado 2: $8765\n",
            "ingrese el sueldo del empleado 3: $234\n",
            "ingrese el sueldo del empleado 4: $234567\n",
            "ingrese el sueldo del empleado 5: $456\n",
            "el empleado numero 4 es el salario màs alto, ganando $234567.0 \n"
          ],
          "name": "stdout"
        }
      ]
    },
    {
      "cell_type": "code",
      "metadata": {
        "colab": {
          "base_uri": "https://localhost:8080/"
        },
        "id": "sN3k0U9h_8yv",
        "outputId": "59923e34-ca3b-4a7d-dd3b-c6eebacf237e"
      },
      "source": [
        "# problema 3.13 lluvias\r\n",
        "arno = 0\r\n",
        "arce = 0\r\n",
        "arsu = 0\r\n",
        "mersu = 0\r\n",
        "I = 1\r\n",
        "while I <= 12:\r\n",
        "  rno = float(input(\"ingrese la lluvia caida en la region norte \"))\r\n",
        "  rsu = float(input(\"ingrese la lluvia caida en la region sur \"))\r\n",
        "  rce = float(input(\"ingrese la lluvia caida en la region centro \"))\r\n",
        "  arno = arno + rno\r\n",
        "  arsu = arsu + rsu\r\n",
        "  arce = arce + rce\r\n",
        "  if mersu == 0:\r\n",
        "    mersu = rsu\r\n",
        "  if rsu < mersu:\r\n",
        "    mersu = rsu\r\n",
        "    mes = I\r\n",
        "  I = I + 1\r\n",
        "proce = arce / 12\r\n",
        "print(f\"El promedio de la region centro es {proce:.2f} \\nEl mes con menor lluvia del sur fue el mes {mes} con lluvias de {mersu}\")\r\n",
        "if arno > arce:\r\n",
        "  if arno > arsu:\r\n",
        "    may = \"norte\"\r\n",
        "  else:\r\n",
        "    may = \"sur\"\r\n",
        "else:\r\n",
        "  if arce > arsu:\r\n",
        "    may = \"centro\"\r\n",
        "  else:\r\n",
        "    may = \"sur\" \r\n",
        "print(f\"la region con mayor lluvia fue la {may}\") \r\n"
      ],
      "execution_count": null,
      "outputs": [
        {
          "output_type": "stream",
          "text": [
            "ingrese la lluvia caida en la region norte 10\n",
            "ingrese la lluvia caida en la region sur 1\n",
            "ingrese la lluvia caida en la region centro 1\n",
            "ingrese la lluvia caida en la region norte 10\n",
            "ingrese la lluvia caida en la region sur 1\n",
            "ingrese la lluvia caida en la region centro 1\n",
            "ingrese la lluvia caida en la region norte 10\n",
            "ingrese la lluvia caida en la region sur 1\n",
            "ingrese la lluvia caida en la region centro 1\n",
            "ingrese la lluvia caida en la region norte 10\n",
            "ingrese la lluvia caida en la region sur 1\n",
            "ingrese la lluvia caida en la region centro 1\n",
            "ingrese la lluvia caida en la region norte 10\n",
            "ingrese la lluvia caida en la region sur 1\n",
            "ingrese la lluvia caida en la region centro 1\n",
            "ingrese la lluvia caida en la region norte 10\n",
            "ingrese la lluvia caida en la region sur 1\n",
            "ingrese la lluvia caida en la region centro 1\n",
            "ingrese la lluvia caida en la region norte 10\n",
            "ingrese la lluvia caida en la region sur 1\n",
            "ingrese la lluvia caida en la region centro 10\n",
            "ingrese la lluvia caida en la region norte 10\n",
            "ingrese la lluvia caida en la region sur 11\n",
            "ingrese la lluvia caida en la region centro 111\n",
            "ingrese la lluvia caida en la region norte 10\n",
            "ingrese la lluvia caida en la region sur 10\n",
            "ingrese la lluvia caida en la region centro 1\n",
            "ingrese la lluvia caida en la region norte 100\n",
            "ingrese la lluvia caida en la region sur 1\n",
            "ingrese la lluvia caida en la region centro 1\n",
            "ingrese la lluvia caida en la region norte 1000\n",
            "ingrese la lluvia caida en la region sur 1\n",
            "ingrese la lluvia caida en la region centro 1\n",
            "ingrese la lluvia caida en la region norte 10\n",
            "ingrese la lluvia caida en la region sur 1\n",
            "ingrese la lluvia caida en la region centro 1\n",
            "El promedio de la region centro es 10.916666666666666 \n",
            "El mes con menor lluvia del sur fue el mes 11 con lluvias de 1.0\n",
            "la region con mayor lluvia fue la norte\n"
          ],
          "name": "stdout"
        }
      ]
    },
    {
      "cell_type": "code",
      "metadata": {
        "colab": {
          "base_uri": "https://localhost:8080/"
        },
        "id": "foqB-rEr_1iw",
        "outputId": "1a6a980a-9f5f-44bf-c6bd-ddf8deeaaace"
      },
      "source": [
        "# problema 3.14 estadio\r\n",
        "api1 = 0\r\n",
        "api2 = 0\r\n",
        "api3 = 0\r\n",
        "api4 = 0\r\n",
        "api5 = 0\r\n",
        "recau = 0\r\n",
        "p1 = float(input(\"ingrese el precio de la localidad 1: \"))\r\n",
        "p2 = float(input(\"ingrese el precio de la localidad 2: \"))\r\n",
        "p3 = float(input(\"ingrese el precio de la localidad 3: \"))\r\n",
        "p4 = float(input(\"ingrese el precio de la localidad 4: \"))\r\n",
        "p5 = float(input(\"ingrese el precio de la localidad 5: \"))\r\n",
        "clave = float(input(\"ingrese el numero de la localidad: \"))\r\n",
        "cant = float(input(\"ingrese la cantidad de boletos: \"))\r\n",
        "while (clave > -1) or (cant > -1): #hace mas sencillo cerrar un ciclo con or\r\n",
        "  if clave == 1:\r\n",
        "    pre = p1 * cant\r\n",
        "    api1 = api1 + cant\r\n",
        "  if clave == 2:\r\n",
        "    pre = p2 * cant\r\n",
        "    api2 = api2 + cant\r\n",
        "  if clave == 3:\r\n",
        "    pre = p3 * cant\r\n",
        "    api3 = api3 + cant\r\n",
        "  if clave == 4:\r\n",
        "    pre = p4 * cant\r\n",
        "    api4 = api4 + cant\r\n",
        "  if clave == 5:\r\n",
        "    pre = p5 * cant\r\n",
        "    api5 = api5 + cant\r\n",
        "  print(f\"Se vendieron {cant} boletos de la localidad {clave} con ganancias de ${pre}\")\r\n",
        "  recau = recau + pre\r\n",
        "  clave = float(input(\"ingrese el numero de la localidad: \"))\r\n",
        "  cant = float(input(\"ingrese la cantidad de boletos: \"))\r\n",
        "print(f\"cantidad de boletos de la localidad 1: {api1}\")\r\n",
        "print(f\"cantidad de boletos de la localidad 2: {api2}\")\r\n",
        "print(f\"cantidad de boletos de la localidad 3: {api3}\")\r\n",
        "print(f\"cantidad de boletos de la localidad 4: {api4}\")\r\n",
        "print(f\"cantidad de boletos de la localidad 5: {api5}\")\r\n",
        "print(f\"La recaudacion del estadio fue ${recau} \")"
      ],
      "execution_count": null,
      "outputs": [
        {
          "output_type": "stream",
          "text": [
            "ingrese el precio de la localidad 1: 7.25\n",
            "ingrese el precio de la localidad 2: 15.80\n",
            "ingrese el precio de la localidad 3: 25\n",
            "ingrese el precio de la localidad 4: 50\n",
            "ingrese el precio de la localidad 5: 75\n",
            "ingrese el numero de la localidad: 2\n",
            "ingrese la cantidad de boletos: 33\n",
            "Se vendieron 33.0 boletos de la localidad 2.0 con ganancias de $521.4\n",
            "ingrese el numero de la localidad: 3\n",
            "ingrese la cantidad de boletos: 26\n",
            "Se vendieron 26.0 boletos de la localidad 3.0 con ganancias de $650.0\n",
            "ingrese el numero de la localidad: 1\n",
            "ingrese la cantidad de boletos: 59\n",
            "Se vendieron 59.0 boletos de la localidad 1.0 con ganancias de $427.75\n",
            "ingrese el numero de la localidad: 4\n",
            "ingrese la cantidad de boletos: 15\n",
            "Se vendieron 15.0 boletos de la localidad 4.0 con ganancias de $750.0\n",
            "ingrese el numero de la localidad: 5\n",
            "ingrese la cantidad de boletos: 10\n",
            "Se vendieron 10.0 boletos de la localidad 5.0 con ganancias de $750.0\n",
            "ingrese el numero de la localidad: -1\n",
            "ingrese la cantidad de boletos: -1\n",
            "cantidad de boletos de la localidad 1 59.0\n",
            "cantidad de boletos de la localidad 2 33.0\n",
            "cantidad de boletos de la localidad 3 26.0\n",
            "cantidad de boletos de la localidad 4 15.0\n",
            "cantidad de boletos de la localidad 5 10.0\n",
            "La recaudacion del estadio fue $3099.15 \n"
          ],
          "name": "stdout"
        }
      ]
    },
    {
      "cell_type": "code",
      "metadata": {
        "id": "P4dmVeMQ_9yd",
        "colab": {
          "base_uri": "https://localhost:8080/"
        },
        "outputId": "8ba8b5cf-ddd0-46bf-af3c-8f3dbac57c06"
      },
      "source": [
        "# problema 3.15 Telefono\r\n",
        "cuenta = 0\r\n",
        "costo = 0\r\n",
        "cl = 0\r\n",
        "tipo = str(input(\"ingrese el tipo de llamada (l, n o i) cuando termine teclee ¨x¨ \\n\"))\r\n",
        "dur = int(input(\"ingrese la duracion de la llamada en minutos cuando ternime teclee ¨-1¨ \\n\"))\r\n",
        "while (tipo != \"x\" ) or (dur != -1):\r\n",
        "  if tipo == \"l\":\r\n",
        "    cl = cl + 1\r\n",
        "    if cl < 50:\r\n",
        "      costo = 0\r\n",
        "    else:\r\n",
        "      costo = 0.60\r\n",
        "  if tipo == \"n\":\r\n",
        "    if dur < 3:\r\n",
        "      costo = 1.20\r\n",
        "    else:\r\n",
        "      costo = cuenta + 1.20 + ((dur - 3) * 0.48)\r\n",
        "  if tipo == \"i\":\r\n",
        "    if dur < 3:\r\n",
        "      costo = 7.59\r\n",
        "    else:\r\n",
        "      costo = cuenta + 7.59 + ((dur - 3) * 3.03)\r\n",
        "  cuenta = cuenta + costo\r\n",
        "  tipo = str(input(\"ingrese el tipo de llamada \"))\r\n",
        "  dur = int(input(\"ingrese la duracion de la llamada \"))\r\n",
        "print(f\"la cuenta es de ${cuenta:.2f} \")"
      ],
      "execution_count": null,
      "outputs": [
        {
          "output_type": "stream",
          "text": [
            "ingrese el tipo de llamada (local, nacional o internacional) cuando termine teclee ¨x¨ \n",
            "l\n",
            "ingrese la duracion de la llamada en minutos cuando ternime teclee ¨-1¨ \n",
            "23456\n",
            "ingrese el tipo de llamada x\n",
            "ingrese la duracion de la llamada -1\n",
            "la cuenta es de $0.00 \n"
          ],
          "name": "stdout"
        }
      ]
    },
    {
      "cell_type": "code",
      "metadata": {
        "id": "-B8Lxk2B_98N",
        "colab": {
          "base_uri": "https://localhost:8080/"
        },
        "outputId": "53d0df1d-6fd6-49c0-e0e5-de95455f022c"
      },
      "source": [
        "# problema 3.16 bodega\r\n",
        "tipo1 = 0\r\n",
        "tipo2 = 0\r\n",
        "tipo3 = 0\r\n",
        "tipo4 = 0\r\n",
        "tipo5 = 0\r\n",
        "mtipo2 = 0\r\n",
        "n = int(input(\"ingrese el numero de años \"))\r\n",
        "I = 1\r\n",
        "while I <= n:\r\n",
        "  J = 1\r\n",
        "  total = 0\r\n",
        "  while J <= 5:\r\n",
        "    V = float(input(f\"introduzca el total de litros de tipo {J} del año {I}: \"))\r\n",
        "    total = total + V\r\n",
        "    if J == 1:\r\n",
        "      tipo1 = tipo1 + V\r\n",
        "    if J == 2:\r\n",
        "      tipo2 = tipo2 + V\r\n",
        "      if V > mtipo2:\r\n",
        "        mtipo2 = V\r\n",
        "        año = I\r\n",
        "    if J == 3:\r\n",
        "      tipo3 = tipo3 + V\r\n",
        "      if V == 0:\r\n",
        "        print(f\"en el año {I} no se produjo vino tipo 3\")\r\n",
        "    if J == 4:\r\n",
        "      tipo4 = tipo4 + V\r\n",
        "    if J == 5:\r\n",
        "      tipo5 = tipo5 + V\r\n",
        "    J = J + 1\r\n",
        "  print(f\"se produjeron {total} litros de vino en el año {I}\")\r\n",
        "  I = I + 1\r\n",
        "print(f\"\\nse produjo un total de {tipo1} litros de vino tipo 1 \\nse produjo un total de {tipo2} litros de vino tipo 2 \\nse produjo un total de {tipo3} litros de vino tipo 3 \\nse produjo un total de {tipo4} litros de vino tipo 4 \\nse produjo un total de {tipo5} litros de vino tipo 5 \")\r\n",
        "print(f\"se produjo mayor cantidad de vino tipo 2 en el año {año} con {mtipo2} litros\")"
      ],
      "execution_count": null,
      "outputs": [
        {
          "output_type": "stream",
          "text": [
            "ingrese el numero de años 3\n",
            "introduzca el total de litros de tipo 1 del año 1: 2134\n",
            "introduzca el total de litros de tipo 2 del año 1: 654\n",
            "introduzca el total de litros de tipo 3 del año 1: 1234\n",
            "introduzca el total de litros de tipo 4 del año 1: 543\n",
            "introduzca el total de litros de tipo 5 del año 1: 1234\n",
            "se produjeron 5799.0 litros de vino en el año 1\n",
            "introduzca el total de litros de tipo 1 del año 2: 234\n",
            "introduzca el total de litros de tipo 2 del año 2: 12345\n",
            "introduzca el total de litros de tipo 3 del año 2: 0\n",
            "en el año 2 no se produjo vino tipo 3\n",
            "introduzca el total de litros de tipo 4 del año 2: 2134\n",
            "introduzca el total de litros de tipo 5 del año 2: 5432\n",
            "se produjeron 20145.0 litros de vino en el año 2\n",
            "introduzca el total de litros de tipo 1 del año 3: 2134\n",
            "introduzca el total de litros de tipo 2 del año 3: 65432\n",
            "introduzca el total de litros de tipo 3 del año 3: 123\n",
            "introduzca el total de litros de tipo 4 del año 3: 432\n",
            "introduzca el total de litros de tipo 5 del año 3: 1234\n",
            "se produjeron 69355.0 litros de vino en el año 3\n",
            "\n",
            "se produjo un total de 4502.0 litros de vino tipo 1 \n",
            "se produjo un total de 78431.0 litros de vino tipo 2 \n",
            "se produjo un total de 1357.0 litros de vino tipo 3 \n",
            "se produjo un total de 3109.0 litros de vino tipo 4 \n",
            "se produjo un total de 7900.0 litros de vino tipo 5 \n",
            "se produjo mayor cantidad de vino tipo 2 en el año 3 con 65432.0 litros\n"
          ],
          "name": "stdout"
        }
      ]
    },
    {
      "cell_type": "code",
      "metadata": {
        "id": "BASHYJ5i_-Ep",
        "colab": {
          "base_uri": "https://localhost:8080/"
        },
        "outputId": "ed79a3f4-f393-4efe-a98c-310dc144f43f"
      },
      "source": [
        "# problema 3.17 primos\r\n",
        "sp = 0\r\n",
        "I = 3\r\n",
        "m = int(input(\"ingrese un numero \"))\r\n",
        "if m >= 1:\r\n",
        "  sp = sp + 1\r\n",
        "  print(\"1 es numero primo\")\r\n",
        "if m >= 2:\r\n",
        "  sp = sp + 1\r\n",
        "  print(\"2 es numero primo\")\r\n",
        "while I <= m:\r\n",
        "  band = True\r\n",
        "  j = 3\r\n",
        "  while (j < (I / 2)) and (band == True):\r\n",
        "    if (I % j) == 0:\r\n",
        "      band = False\r\n",
        "    j = j + 2\r\n",
        "  band = True\r\n",
        "  print(f\"{I} es numero primo\")\r\n",
        "  sp = sp + 1\r\n",
        "  I = I + 2\r\n",
        "print(f\"entre 1 y {m} hay {sp} numeros primos\")\r\n",
        "\r\n"
      ],
      "execution_count": null,
      "outputs": [
        {
          "output_type": "stream",
          "text": [
            "ingrese un numero 18\n",
            "1 es numero primo\n",
            "2 es numero primo\n",
            "3 es numero primo\n",
            "5 es numero primo\n",
            "7 es numero primo\n",
            "9 es numero primo\n",
            "11 es numero primo\n",
            "13 es numero primo\n",
            "15 es numero primo\n",
            "17 es numero primo\n",
            "entre 1 y 18 hay 10 numeros primos\n"
          ],
          "name": "stdout"
        }
      ]
    },
    {
      "cell_type": "code",
      "metadata": {
        "id": "qYuqRfvb_-M4",
        "colab": {
          "base_uri": "https://localhost:8080/"
        },
        "outputId": "a3c60e89-fba5-48e4-a1cd-f86706e7fcba"
      },
      "source": [
        "#problema 3.18\r\n",
        "maypro = 0\r\n",
        "n = int(input(\"ingrese el numero de fabricas registradas \"))\r\n",
        "if n <= 100:\r\n",
        "  I = 1\r\n",
        "  while I <= n:\r\n",
        "    fab = int(I)\r\n",
        "    total = float(0)\r\n",
        "    j = 1\r\n",
        "    while j <= 12:\r\n",
        "      mes = float(input(f\"ingrese la produccion en el mes {j} de la fabrica {I} \"))\r\n",
        "      total = total + mes\r\n",
        "      if (j == 7) and (mes >= 3000000):\r\n",
        "        print(f\"la fabrica {fab} genero más de $3000000 en julio\")\r\n",
        "      j = j + 1\r\n",
        "    if total > maypro:\r\n",
        "      maypro = total\r\n",
        "      clave = fab\r\n",
        "    print(f\"la produccion anual de la fabrica {fab} fue {total}\")\r\n",
        "    I = I +1\r\n",
        "  print(f\"la fabrica {clave} fue la que más produjo en el año con ${maypro}\")\r\n",
        "else:\r\n",
        "  print(\"ingrese un numero valido\")\r\n",
        "\r\n"
      ],
      "execution_count": null,
      "outputs": [
        {
          "output_type": "stream",
          "text": [
            "ingrese el numero de fabricas registradas 2\n",
            "ingrese la produccion en el mes 1 de la fabrica 1 2134567\n",
            "ingrese la produccion en el mes 2 de la fabrica 1 8765432\n",
            "ingrese la produccion en el mes 3 de la fabrica 1 234567\n",
            "ingrese la produccion en el mes 4 de la fabrica 1 43213456754321\n",
            "ingrese la produccion en el mes 5 de la fabrica 1 345678098765\n",
            "ingrese la produccion en el mes 6 de la fabrica 1 23456789\n",
            "ingrese la produccion en el mes 7 de la fabrica 1 0987654323456\n",
            "la fabrica 1 genero más de $3000000 en julio\n",
            "ingrese la produccion en el mes 8 de la fabrica 1 876543\n",
            "ingrese la produccion en el mes 9 de la fabrica 1 234567\n",
            "ingrese la produccion en el mes 10 de la fabrica 1 9876543\n",
            "ingrese la produccion en el mes 11 de la fabrica 1 34567\n",
            "ingrese la produccion en el mes 12 de la fabrica 1 0987654\n",
            "la produccion anual de la fabrica 1 fue 44546835777771.0\n",
            "ingrese la produccion en el mes 1 de la fabrica 2 5677543\n",
            "ingrese la produccion en el mes 2 de la fabrica 2 2345678\n",
            "ingrese la produccion en el mes 3 de la fabrica 2 786543\n",
            "ingrese la produccion en el mes 4 de la fabrica 2 2345678\n",
            "ingrese la produccion en el mes 5 de la fabrica 2 8765\n",
            "ingrese la produccion en el mes 6 de la fabrica 2 324567\n",
            "ingrese la produccion en el mes 7 de la fabrica 2 876543\n",
            "ingrese la produccion en el mes 8 de la fabrica 2 34567\n",
            "ingrese la produccion en el mes 9 de la fabrica 2 786543\n",
            "ingrese la produccion en el mes 10 de la fabrica 2 23456\n",
            "ingrese la produccion en el mes 11 de la fabrica 2 76543\n",
            "ingrese la produccion en el mes 12 de la fabrica 2 34567\n",
            "la produccion anual de la fabrica 2 fue 13320993.0\n",
            "la fabrica 1 fue la que más produjo en el año con $44546835777771.0\n"
          ],
          "name": "stdout"
        }
      ]
    },
    {
      "cell_type": "code",
      "metadata": {
        "colab": {
          "base_uri": "https://localhost:8080/"
        },
        "id": "bPGCh9vQ_-Ue",
        "outputId": "78c972be-e93c-4ad9-f616-614d9265ef23"
      },
      "source": [
        "#problema 19 numeros perfectos\r\n",
        "n = int(input(\"ingrese un numero \"))\r\n",
        "I = 1\r\n",
        "while I <= n:\r\n",
        "  sum = 0\r\n",
        "  j = 1\r\n",
        "  while j <= (I / 2):\r\n",
        "    if (I % j) == 0:\r\n",
        "      sum = sum + j\r\n",
        "    j = j + 1\r\n",
        "  if sum == I:\r\n",
        "    print(f\"{I} es un numero perfecto \")\r\n",
        "  I = I + 1\r\n",
        "\r\n",
        "  "
      ],
      "execution_count": null,
      "outputs": [
        {
          "output_type": "stream",
          "text": [
            "ingrese un numero 2323\n",
            "6 es un numero perfecto \n",
            "28 es un numero perfecto \n",
            "496 es un numero perfecto \n"
          ],
          "name": "stdout"
        }
      ]
    }
  ]
}