{
  "nbformat": 4,
  "nbformat_minor": 0,
  "metadata": {
    "colab": {
      "name": "12_ene_CyP.ipynb",
      "provenance": [],
      "authorship_tag": "ABX9TyNg5vbxgMlnNaVSxZA5ohN2",
      "include_colab_link": true
    },
    "kernelspec": {
      "name": "python3",
      "display_name": "Python 3"
    }
  },
  "cells": [
    {
      "cell_type": "markdown",
      "metadata": {
        "id": "view-in-github",
        "colab_type": "text"
      },
      "source": [
        "<a href=\"https://colab.research.google.com/github/PlasticTramp/cyp_2021/blob/main/12_ene_CyP.ipynb\" target=\"_parent\"><img src=\"https://colab.research.google.com/assets/colab-badge.svg\" alt=\"Open In Colab\"/></a>"
      ]
    },
    {
      "cell_type": "markdown",
      "metadata": {
        "id": "qtcSxBskqF6g"
      },
      "source": [
        "# introduccion a python\r\n",
        "- creado en los 90's por Guido Van R.\r\n",
        "- en el 2000 python mejora y tiene nuevas caracwteristicas\r\n",
        "- En el 2020 dejo de ser la version oficial python 2.7 y solo se le da soporte a python 3 en adelante \r\n",
        "\r\n",
        "## caracteristicas \r\n",
        "1. lenguaje de proposito general \r\n",
        "2. interpretado y no compilado \r\n",
        "3. tipos de datos dinamicos. (numericos, cadena, bool, entre otros)\r\n",
        "4. multiplataforma \r\n",
        "5. lenguaje multi-paradigma (imperativa, POO y funcional)\r\n",
        "6. codigo estructurado por identacion\r\n",
        "\r\n",
        "## principios Zen\r\n",
        "\r\n",
        "#son las caracteristicas el guian el diseño del lenguaje de programacion de python.\r\n"
      ]
    },
    {
      "cell_type": "code",
      "metadata": {
        "colab": {
          "base_uri": "https://localhost:8080/"
        },
        "id": "4umwG_VgutOg",
        "outputId": "04afa20a-f025-4816-a327-05a5d3ec1433"
      },
      "source": [
        "#primer programa \r\n",
        "\r\n",
        "nombre = \"Néstor\"\r\n",
        "edad = 19\r\n",
        "print(\"hola\",nombre,edad )\r\n"
      ],
      "execution_count": 4,
      "outputs": [
        {
          "output_type": "stream",
          "text": [
            "hola Néstor 19\n"
          ],
          "name": "stdout"
        }
      ]
    },
    {
      "cell_type": "markdown",
      "metadata": {
        "id": "fCAAXCnmvs4y"
      },
      "source": [
        "## La funcion print()\r\n",
        "\r\n",
        "Es una de las funciones más usadas en progrtamación y busca enviar datos a una salida estandar(monitor)\r\n",
        "\r\n",
        "##Formas de uso \r\n",
        "1. con comas \r\n",
        "2. con signos +\r\n",
        "3. .format()\r\n",
        "4. el operador \"f\"\r\n",
        "\r\n",
        "### comas\r\n",
        "concatena los valores y les agrega un espacio (aqui convierte automaticamente a string)\r\n",
        "\r\n",
        "### con signos \r\n",
        "concatena los valores pero no les agrega un espacio (aqui se debe especificar los string \"str\")\r\n",
        "\r\n",
        "### con .format()\r\n",
        "emplea comodines para sustitui valores de {} en un texto\r\n",
        "\r\n",
        "### operador f\r\n",
        "es una variante de la forma anterior pero enmascarando la funcion .format"
      ]
    },
    {
      "cell_type": "markdown",
      "metadata": {
        "id": "r2OwaYH_2OMF"
      },
      "source": [
        "## funcion print() y los caracteres de escape \r\n",
        "- \\n salto de linea \r\n",
        "- \\t tabulador \r\n",
        "- \\\\ imprimir la diagonal \r\n",
        "- \\' and \\\" escapar comillas \r\n",
        "- \\uxxxx\r\n",
        "- \\uxxxxxxxx"
      ]
    },
    {
      "cell_type": "code",
      "metadata": {
        "colab": {
          "base_uri": "https://localhost:8080/"
        },
        "id": "r9xeEspT5Plo",
        "outputId": "aedbe575-fc9a-42f8-d771-9a8dcf818022"
      },
      "source": [
        "print(\" \\u2661\")\r\n",
        "print(\" \\u2763\")\r\n",
        "print(\" \\u6666\")"
      ],
      "execution_count": 14,
      "outputs": [
        {
          "output_type": "stream",
          "text": [
            " ♡\n",
            " ❣\n",
            " 晦\n"
          ],
          "name": "stdout"
        }
      ]
    },
    {
      "cell_type": "code",
      "metadata": {
        "id": "bKaGlo04A16U"
      },
      "source": [
        ""
      ],
      "execution_count": null,
      "outputs": []
    },
    {
      "cell_type": "markdown",
      "metadata": {
        "id": "DiVOoUoS-Nqd"
      },
      "source": [
        "existen dos tipos de linea multiple y simple \r\n",
        "- linea multiple \r\n",
        "```\r\n",
        "\"\"\"\r\n",
        "esto \r\n",
        "es\r\n",
        "un \r\n",
        "comentario\r\n",
        "de \r\n",
        "linea \r\n",
        "multiple \r\n",
        "\"\"\"\r\n",
        "```"
      ]
    }
  ]
}