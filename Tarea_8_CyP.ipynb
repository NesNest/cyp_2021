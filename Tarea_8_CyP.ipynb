{
  "nbformat": 4,
  "nbformat_minor": 0,
  "metadata": {
    "colab": {
      "name": "Tarea_8_CyP.ipynb",
      "provenance": [],
      "authorship_tag": "ABX9TyMn/fGw9woIpoVk4mFzhZHN",
      "include_colab_link": true
    },
    "kernelspec": {
      "name": "python3",
      "display_name": "Python 3"
    }
  },
  "cells": [
    {
      "cell_type": "markdown",
      "metadata": {
        "id": "view-in-github",
        "colab_type": "text"
      },
      "source": [
        "<a href=\"https://colab.research.google.com/github/PlasticTramp/cyp_2021/blob/main/Tarea_8_CyP.ipynb\" target=\"_parent\"><img src=\"https://colab.research.google.com/assets/colab-badge.svg\" alt=\"Open In Colab\"/></a>"
      ]
    },
    {
      "cell_type": "code",
      "metadata": {
        "colab": {
          "base_uri": "https://localhost:8080/"
        },
        "id": "mW5LIfQv7eDV",
        "outputId": "8d91af94-23cb-405d-b70c-127ab8cbac51"
      },
      "source": [
        "print(\" \\u259B\")\r\n",
        "print(\" \\u259C\")\r\n",
        "print(\" \\u2599\")\r\n",
        "print(\" \\u259F\")\r\n",
        "print(\" \\u2598\")\r\n",
        "print(\" \\u2654\")\r\n"
      ],
      "execution_count": 7,
      "outputs": [
        {
          "output_type": "stream",
          "text": [
            " ▛\n",
            " ▜\n",
            " ▙\n",
            " ▟\n",
            " ▘\n",
            " ♔\n"
          ],
          "name": "stdout"
        }
      ]
    },
    {
      "cell_type": "code",
      "metadata": {
        "colab": {
          "base_uri": "https://localhost:8080/"
        },
        "id": "gSk5QCu3_csq",
        "outputId": "598183b4-d789-4c3a-8056-e7f093172224"
      },
      "source": [
        "print(\" \\u259B \\u2598\\u2598\\u2598\\u2598\\u2598\\u2598\\u2598\\u2598\\u2598\\u2598\\u2598\\u2598\\u2598\\u2598\\u2598\\u2598\\u2598\\u2598\\u2598\\u2598\\u2598\\u2598\\u2598\\u2598\\u2598\\u2598\\u2598\\u2598\\u2598\\u2598\\u2598\\u2598\\u2598\\u259C\")\r\n",
        "print(\" \\u2598 \\t\\t\\t\\t\\t\\t\\t\\u2598\")\r\n",
        "print(\" \\u2598   \\u2654\\u2654  \\u2654 \\u2654\\u2654\\u2654\\u2654  \\u2654\\u2654\\u2654 \\u2654\\u2654\\u2654\\u2654\\u2654  \\u2654\\u2654\\u2654   \\u2654\\u2654\\u2654 \\t\\u2598\")\r\n",
        "print(\" \\u2598   \\u2654\\u2654  \\u2654 \\u2654      \\u2654         \\u2654    \\u2654    \\u2654 \\u2654   \\u2654   \\t\\u2598\") \r\n",
        "print(\" \\u2598   \\u2654 \\u2654 \\u2654 \\u2654\\u2654\\u2654    \\u2654\\u2654      \\u2654    \\u2654    \\u2654 \\u2654\\u2654\\u2654 \\t\\u2598\")\r\n",
        "print(\" \\u2598   \\u2654  \\u2654\\u2654 \\u2654           \\u2654    \\u2654    \\u2654    \\u2654 \\u2654  \\u2654 \\t\\u2598\")\r\n",
        "print(\" \\u2598   \\u2654    \\u2654 \\u2654\\u2654\\u2654   \\u2654\\u2654\\u2654     \\u2654     \\u2654\\u2654\\u2654  \\u2654    \\u2654  \\t\\u2598\")\r\n",
        "print(\" \\u2598 \\t\\t\\t\\t\\t\\t\\t\\u2598\")\r\n",
        "print(\" \\u2598 \\t\\t\\t\\t\\t\\t\\t\\u2598\")\r\n",
        "print(\" \\u2599 \\u2598\\u2598\\u2598\\u2598\\u2598\\u2598\\u2598\\u2598\\u2598\\u2598\\u2598\\u2598\\u2598\\u2598\\u2598\\u2598\\u2598\\u2598\\u2598\\u2598\\u2598\\u2598\\u2598\\u2598\\u2598\\u2598\\u2598\\u2598\\u2598\\u2598\\u2598\\u2598\\u2598\\u259F\")"
      ],
      "execution_count": 116,
      "outputs": [
        {
          "output_type": "stream",
          "text": [
            " ▛ ▘▘▘▘▘▘▘▘▘▘▘▘▘▘▘▘▘▘▘▘▘▘▘▘▘▘▘▘▘▘▘▘▘▜\n",
            " ▘ \t\t\t\t\t\t\t▘\n",
            " ▘   ♔♔  ♔ ♔♔♔♔  ♔♔♔ ♔♔♔♔♔  ♔♔♔   ♔♔♔ \t▘\n",
            " ▘   ♔♔  ♔ ♔      ♔         ♔    ♔    ♔ ♔   ♔   \t▘\n",
            " ▘   ♔ ♔ ♔ ♔♔♔    ♔♔      ♔    ♔    ♔ ♔♔♔ \t▘\n",
            " ▘   ♔  ♔♔ ♔           ♔    ♔    ♔    ♔ ♔  ♔ \t▘\n",
            " ▘   ♔    ♔ ♔♔♔   ♔♔♔     ♔     ♔♔♔  ♔    ♔  \t▘\n",
            " ▘ \t\t\t\t\t\t\t▘\n",
            " ▘ \t\t\t\t\t\t\t▘\n",
            " ▙ ▘▘▘▘▘▘▘▘▘▘▘▘▘▘▘▘▘▘▘▘▘▘▘▘▘▘▘▘▘▘▘▘▘▟\n"
          ],
          "name": "stdout"
        }
      ]
    }
  ]
}