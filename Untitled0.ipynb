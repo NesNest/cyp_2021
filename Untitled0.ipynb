{
  "nbformat": 4,
  "nbformat_minor": 0,
  "metadata": {
    "colab": {
      "name": "Untitled0.ipynb",
      "provenance": [],
      "authorship_tag": "ABX9TyNW7IY4mBP+LrYVyrIVwoX2",
      "include_colab_link": true
    },
    "kernelspec": {
      "name": "python3",
      "display_name": "Python 3"
    }
  },
  "cells": [
    {
      "cell_type": "markdown",
      "metadata": {
        "id": "view-in-github",
        "colab_type": "text"
      },
      "source": [
        "<a href=\"https://colab.research.google.com/github/PlasticTramp/cyp_2021/blob/main/Untitled0.ipynb\" target=\"_parent\"><img src=\"https://colab.research.google.com/assets/colab-badge.svg\" alt=\"Open In Colab\"/></a>"
      ]
    },
    {
      "cell_type": "code",
      "metadata": {
        "id": "s5igYcMBeR9V",
        "outputId": "540c076f-5e95-4608-abf3-ff4b805dc50a",
        "colab": {
          "base_uri": "https://localhost:8080/"
        }
      },
      "source": [
        "numero=int (input(\"dame un nuemro \"))\n",
        "if numero >0:\n",
        "  print(\"el numero es positivo\")\n",
        "\n",
        "print(\"fin del programa\")"
      ],
      "execution_count": 2,
      "outputs": [
        {
          "output_type": "stream",
          "text": [
            "dame un nuemro-5\n",
            "el numero es negativo\n",
            "fin del programa\n"
          ],
          "name": "stdout"
        }
      ]
    },
    {
      "cell_type": "code",
      "metadata": {
        "id": "otRhn-IFfPoT",
        "outputId": "7699d687-4ee2-47c1-e892-a57a10b47eda",
        "colab": {
          "base_uri": "https://localhost:8080/"
        }
      },
      "source": [
        "numero=int (input(\"dame un numero \"))\n",
        "if numero >0:\n",
        "  print(\"el nunmero es positivo\")\n",
        "else:\n",
        "\n",
        "  print(\"el numero es negativo\")\n",
        "print(\"fin del program\")"
      ],
      "execution_count": 8,
      "outputs": [
        {
          "output_type": "stream",
          "text": [
            "dame un numero 3\n",
            "el nunmero es positivo\n",
            "fin del program\n"
          ],
          "name": "stdout"
        }
      ]
    }
  ]
}