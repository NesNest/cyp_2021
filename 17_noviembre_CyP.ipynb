{
  "nbformat": 4,
  "nbformat_minor": 0,
  "metadata": {
    "colab": {
      "name": "17_noviembre_CyP",
      "provenance": [],
      "authorship_tag": "ABX9TyMAe0v+CIPzwez0FLN0qrqO",
      "include_colab_link": true
    },
    "kernelspec": {
      "name": "python3",
      "display_name": "Python 3"
    }
  },
  "cells": [
    {
      "cell_type": "markdown",
      "metadata": {
        "id": "view-in-github",
        "colab_type": "text"
      },
      "source": [
        "<a href=\"https://colab.research.google.com/github/PlasticTramp/cyp_2021/blob/main/17_noviembre_CyP.ipynb\" target=\"_parent\"><img src=\"https://colab.research.google.com/assets/colab-badge.svg\" alt=\"Open In Colab\"/></a>"
      ]
    },
    {
      "cell_type": "code",
      "metadata": {
        "colab": {
          "base_uri": "https://localhost:8080/"
        },
        "id": "KxcP6dg6SDnr",
        "outputId": "53f7f790-c726-49cd-e17f-0d97a7fd270d"
      },
      "source": [
        "edad = 19\n",
        "estatura = 1.80\n",
        "a = 10\n",
        "b = 3\n",
        "\n",
        "c = 2 ** b\n",
        "\n",
        "print( c )\n",
        "\n",
        "e = estatura * 2.0\n",
        "print ( e )\n",
        "\n",
        "f = a / b # en python se hace el calculo exacto\n",
        "print( f ) # 3.3333\n",
        "\n",
        "#tambien podemos forzar el calculo \n",
        "g = a // b\n",
        "print(\"g =\", g)\n",
        "\n",
        "h = a % b\n",
        "print(\"h =\", h)\n",
        "\n",
        "num = 11\n",
        "\n",
        "print(\"¿es par el numero?\",0 == num % 2 )"
      ],
      "execution_count": 13,
      "outputs": [
        {
          "output_type": "stream",
          "text": [
            "8\n",
            "3.6\n",
            "3.3333333333333335\n",
            "g = 3\n",
            "h = 1\n",
            "¿es par el numero? True\n"
          ],
          "name": "stdout"
        }
      ]
    },
    {
      "cell_type": "code",
      "metadata": {
        "colab": {
          "base_uri": "https://localhost:8080/"
        },
        "id": "D93bgL9GXMjQ",
        "outputId": "b42b1694-dcfd-4fdf-9582-6d6d809c83bf"
      },
      "source": [
        "ecuacion = 9 + 7 * 8 - 36 / 5 #(\")>\n",
        "print(ecuacion)\n",
        "\n",
        "ecuacion2 = (9 + 7) *8 - 36 /5\n",
        "print(ecuacion2)\n",
        "\n",
        "ecuacion3 = 9 + 7 *(8 - 36) /5\n",
        "print(ecuacion3)"
      ],
      "execution_count": 17,
      "outputs": [
        {
          "output_type": "stream",
          "text": [
            "57.8\n",
            "120.8\n",
            "-30.200000000000003\n"
          ],
          "name": "stdout"
        }
      ]
    },
    {
      "cell_type": "code",
      "metadata": {
        "colab": {
          "base_uri": "https://localhost:8080/"
        },
        "id": "sBgz8zcWcLn4",
        "outputId": "68364185-4492-4e22-e419-f152d0cbd9d0"
      },
      "source": [
        "#operadores logicos\n",
        "x = 5\n",
        "y = 4\n",
        "valor = (x == y) # false ¿son iguales?\n",
        "print(valor)\n",
        "\n",
        "valor = (x != y) # true ¿son diferentes?\n",
        "print(valor)\n",
        "\n",
        "valor = (x < y) # false ¿x es menor?\n",
        "print(valor)\n",
        "\n",
        "valor = (x > y) # false ¿x es mayor?\n",
        "print(valor)\n",
        "\n",
        "y = 5\n",
        "valor = (x <= y) # false ¿x es menor o igual?\n",
        "print(valor)\n",
        "\n",
        "valor = (x >= y) # false ¿x es mayor o igual?\n",
        "print(valor)"
      ],
      "execution_count": 25,
      "outputs": [
        {
          "output_type": "stream",
          "text": [
            "False\n",
            "True\n",
            "False\n",
            "True\n",
            "True\n",
            "True\n"
          ],
          "name": "stdout"
        }
      ]
    },
    {
      "cell_type": "code",
      "metadata": {
        "colab": {
          "base_uri": "https://localhost:8080/"
        },
        "id": "WkjEQiUMfj99",
        "outputId": "0355a9c1-6f07-4ab9-dcea-3ad5c2dd8544"
      },
      "source": [
        "costo_chetos = 7.0 \n",
        "tienda_abierta = True\n",
        "capitalenbolsa = 10.0\n",
        "\n",
        "se_compra = ( costo_chetos < capitalenbolsa ) & (tienda_abierta == True)\n",
        "print(se_compra)\n"
      ],
      "execution_count": 34,
      "outputs": [
        {
          "output_type": "stream",
          "text": [
            "False\n"
          ],
          "name": "stdout"
        }
      ]
    }
  ]
}