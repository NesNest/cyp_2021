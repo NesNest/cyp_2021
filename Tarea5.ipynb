{
  "nbformat": 4,
  "nbformat_minor": 0,
  "metadata": {
    "colab": {
      "name": "Tarea5.ipynb",
      "provenance": [],
      "authorship_tag": "ABX9TyMOVUeb047fhOINGseEPrJ1",
      "include_colab_link": true
    },
    "kernelspec": {
      "name": "python3",
      "display_name": "Python 3"
    }
  },
  "cells": [
    {
      "cell_type": "markdown",
      "metadata": {
        "id": "view-in-github",
        "colab_type": "text"
      },
      "source": [
        "<a href=\"https://colab.research.google.com/github/PlasticTramp/cyp_2021/blob/main/Tarea5.ipynb\" target=\"_parent\"><img src=\"https://colab.research.google.com/assets/colab-badge.svg\" alt=\"Open In Colab\"/></a>"
      ]
    },
    {
      "cell_type": "code",
      "metadata": {
        "colab": {
          "base_uri": "https://localhost:8080/"
        },
        "id": "P_g5TpmuMZNo",
        "outputId": "a7c18c0f-9481-4c77-9266-099dd54ae5f9"
      },
      "source": [
        "#ejemplo 3.1 dados los sueldos arroje la nomina \"for\"\n",
        "nom = 0\n",
        "nomina = 0\n",
        "\n",
        "for i in range(1, 11):\n",
        "   nom = float(input(f\"ingrese el sueldo {i} \"))\n",
        "\n",
        "   nomina += nom\n",
        "print(f\"la nomina es {nomina}\")"
      ],
      "execution_count": 81,
      "outputs": [
        {
          "output_type": "stream",
          "text": [
            "ingrese el sueldo 1 2345\n",
            "ingrese el sueldo 2 9876\n",
            "ingrese el sueldo 3 3456\n",
            "ingrese el sueldo 4 4697\n",
            "ingrese el sueldo 5 0975\n",
            "ingrese el sueldo 6 2479\n",
            "ingrese el sueldo 7 9864\n",
            "ingrese el sueldo 8 08757\n",
            "ingrese el sueldo 9 11\n",
            "ingrese el sueldo 10 3456\n",
            "la nomina es 45916.0\n"
          ],
          "name": "stdout"
        }
      ]
    },
    {
      "cell_type": "code",
      "metadata": {
        "colab": {
          "base_uri": "https://localhost:8080/"
        },
        "id": "pfjvEUMST42p",
        "outputId": "b20fada6-c232-41f8-ac65-311c46465bc5"
      },
      "source": [
        "#ejemplo 3.4 suma de gastos \"while\"\n",
        "\n",
        "sum = 0\n",
        "gas = 0\n",
        "\n",
        "print(\"ingrese los gastos que haya tenido, cuando haya terminado ingrese ¨-1¨ \")\n",
        "gas = float(input())\n",
        "while gas > -1:\n",
        " sum = sum + gas\n",
        " gas = float(input())\n",
        "print(f\"los gastos fueron ${sum}\")\n"
      ],
      "execution_count": 110,
      "outputs": [
        {
          "output_type": "stream",
          "text": [
            "ingrese los gastos que haya tenido, cuando haya terminado ingrese ¨-1¨ \n",
            "123\n",
            "1234\n",
            "12345\n",
            "4567\n",
            "5467\n",
            "-1\n",
            "los gastos fueron $23736.0\n"
          ],
          "name": "stdout"
        }
      ]
    }
  ]
}