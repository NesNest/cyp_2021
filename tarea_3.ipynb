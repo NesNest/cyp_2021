{
  "nbformat": 4,
  "nbformat_minor": 0,
  "metadata": {
    "colab": {
      "name": "tarea_3.ipynb",
      "provenance": [],
      "authorship_tag": "ABX9TyMK+DGPMPfZeB8StaXGHQiq",
      "include_colab_link": true
    },
    "kernelspec": {
      "name": "python3",
      "display_name": "Python 3"
    }
  },
  "cells": [
    {
      "cell_type": "markdown",
      "metadata": {
        "id": "view-in-github",
        "colab_type": "text"
      },
      "source": [
        "<a href=\"https://colab.research.google.com/github/PlasticTramp/cyp_2021/blob/main/tarea_3.ipynb\" target=\"_parent\"><img src=\"https://colab.research.google.com/assets/colab-badge.svg\" alt=\"Open In Colab\"/></a>"
      ]
    },
    {
      "cell_type": "code",
      "metadata": {
        "colab": {
          "base_uri": "https://localhost:8080/"
        },
        "id": "-tYb4wcGb2H5",
        "outputId": "f8d5a9e0-3caf-4b1c-cb6f-b7254872d3f1"
      },
      "source": [
        "#problema 1.1 programa que calcule cambio \n",
        "pag = 0\n",
        "pre = 0\n",
        "cam = 0.00\n",
        "\n",
        "pre = float(input(\"ingrese el precio del producto \"))\n",
        "pag = float(input(\"ingrese el dinero recibido \"))\n",
        "\n",
        "cam = pag - pre\n",
        "\n",
        "#aunque el ejemplo no lo pida quise agregar que pasaria si el producto es mas caro que el capital del cliente \n",
        "\n",
        "if pre < pag:\n",
        "  print(f\"el cambio es ${cam:.2f}\")\n",
        "else:\n",
        "  print(\"no hay el suficiente dinero para comprar el producto\")"
      ],
      "execution_count": 44,
      "outputs": [
        {
          "output_type": "stream",
          "text": [
            "ingrese el precio del producto 2345\n",
            "ingrese el dinero recibido 45678\n",
            "el cambio es $43333.00\n"
          ],
          "name": "stdout"
        }
      ]
    },
    {
      "cell_type": "code",
      "metadata": {
        "colab": {
          "base_uri": "https://localhost:8080/"
        },
        "id": "neWQSWeufDlh",
        "outputId": "97ec17e6-7fe4-44ba-ba40-68a26a42c025"
      },
      "source": [
        "#ejemplo 1.2 calculo de area de un triangulo \n",
        "bas = 0\n",
        "alt = 0\n",
        "are = 0.00\n",
        "\n",
        "bas = float(input(\"por favor ingrese la base del triangulo \"))\n",
        "alt = float(input(\"por favor ingrese la altura del triangulo \"))\n",
        "\n",
        "are = (bas * alt) / 2\n",
        "\n",
        "print(f\"la superficie del triangulo son {are:.2f} u^2\")"
      ],
      "execution_count": 43,
      "outputs": [
        {
          "output_type": "stream",
          "text": [
            "por favor ingrese la base del triangulo 345\n",
            "por favor ingrese la altura del triangulo 34567\n",
            "la superficie del triangulo son 5962807.50 u^2\n"
          ],
          "name": "stdout"
        }
      ]
    },
    {
      "cell_type": "code",
      "metadata": {
        "colab": {
          "base_uri": "https://localhost:8080/"
        },
        "id": "vpwSsdLAgzja",
        "outputId": "3a3ada1a-f237-4ee2-98bd-3432b733fcf5"
      },
      "source": [
        "# ejemplo 1.3 dinoprograma\n",
        "\n",
        "nom = 0\n",
        "pes = 0\n",
        "lon = 0\n",
        "pesk = 0.0\n",
        "lonm = 0.0\n",
        "\n",
        "nom = input(\"ingrese el nombre del dinosaurio \")\n",
        "pes = float(input(\"ingrese en peso del dinosaurio en libras \"))\n",
        "lon = float(input(\"ingrese la altura del dinosaurio en pies \"))\n",
        "\n",
        "pesk = pes * .45\n",
        "altm = lon * .30\n",
        "\n",
        "\n",
        "#aqui tuve que investigar como limitar el resultado a dos numeros despues del punto y lo aplique a mis demas programas\n",
        "print(f\"el dinosaurio {nom} pesa {pesk:.2f}kg y mide {altm:.2f}m}\")\n",
        "                                            \n",
        "\n"
      ],
      "execution_count": 45,
      "outputs": [
        {
          "output_type": "stream",
          "text": [
            "ingrese el nombre del dinosaurio asdfgh\n",
            "ingrese en peso del dinosaurio en libras 23456\n",
            "ingrese la altura del dinosaurio en pies 45678\n",
            "el dinosaurio asdfgh pesa 10555.20kg y mide 13703.40\n"
          ],
          "name": "stdout"
        }
      ]
    },
    {
      "cell_type": "code",
      "metadata": {
        "colab": {
          "base_uri": "https://localhost:8080/"
        },
        "id": "iVdzCqy5qtRk",
        "outputId": "abb6d82c-6135-4ad7-dca4-379ead65c93c"
      },
      "source": [
        "# ejemplo 1.4 gasolina en litros \n",
        "\n",
        "gal = 0\n",
        "lit = 0\n",
        "pre = 0\n",
        "\n",
        "gal = float(input(\"por favor ingrese el numero de galones usados \"))\n",
        "\n",
        "lit = gal * 3.785\n",
        "pre = lit * 8.20\n",
        "\n",
        "print(f\"su total a pagar son ${pre:.2f}\")\n"
      ],
      "execution_count": 48,
      "outputs": [
        {
          "output_type": "stream",
          "text": [
            "por favor ingrese el numero de galones usados 15.90\n",
            "su total a pagar son $493.49\n"
          ],
          "name": "stdout"
        }
      ]
    },
    {
      "cell_type": "code",
      "metadata": {
        "colab": {
          "base_uri": "https://localhost:8080/"
        },
        "id": "C-Vs5ZDvsIzc",
        "outputId": "c9118cb7-720e-4c54-a4dc-30f7221ea141"
      },
      "source": [
        "# ejemplo 1.5 \n",
        "\n",
        "rad = 0\n",
        "alt = 0\n",
        "are = 0\n",
        "vol = 0\n",
        "pi = 3.141592\n",
        " \n",
        "\n",
        "rad = float(input(\"ingrese el radio \"))\n",
        "alt = float(input(\"ingrese la altura \"))\n",
        "\n",
        "are = 2 * rad * alt * pi\n",
        "vol = pi * (rad ** 2) * alt\n",
        "\n",
        "print(f\"el volumen del cilindro es {vol:.2f}u^3 y el area{are:.2f}u^2\")"
      ],
      "execution_count": 54,
      "outputs": [
        {
          "output_type": "stream",
          "text": [
            "ingrese el radio 45.22\n",
            "ingrese la altura 11.60\n",
            "el volumen del cilindro es 74519.32u^3 y el area3295.86\n"
          ],
          "name": "stdout"
        }
      ]
    },
    {
      "cell_type": "code",
      "metadata": {
        "colab": {
          "base_uri": "https://localhost:8080/"
        },
        "id": "ZMaRiqPnud2k",
        "outputId": "2f2d74b8-5b58-4194-a698-14438b951227"
      },
      "source": [
        "# ejemplo 1.6 dias en segundos\n",
        "\n",
        "dias = 0\n",
        "seg = 0\n",
        "\n",
        "dias = int(input(\"ingrese el numero de dias a calcular\"))\n",
        "\n",
        "seg = dias * 86400\n",
        "\n",
        "print(f\"hay {seg} segundos en {dias} dias\")"
      ],
      "execution_count": 56,
      "outputs": [
        {
          "output_type": "stream",
          "text": [
            "ingrese el numero de dias a calcular6\n",
            "hay 518400 segundos en 6 dias\n"
          ],
          "name": "stdout"
        }
      ]
    }
  ]
}