{
  "nbformat": 4,
  "nbformat_minor": 0,
  "metadata": {
    "colab": {
      "name": "01_dic_CyP.ipynb",
      "provenance": [],
      "authorship_tag": "ABX9TyN674JPu0S/lnhdQU4Md8Wn",
      "include_colab_link": true
    },
    "kernelspec": {
      "name": "python3",
      "display_name": "Python 3"
    }
  },
  "cells": [
    {
      "cell_type": "markdown",
      "metadata": {
        "id": "view-in-github",
        "colab_type": "text"
      },
      "source": [
        "<a href=\"https://colab.research.google.com/github/PlasticTramp/cyp_2021/blob/main/01_dic_CyP.ipynb\" target=\"_parent\"><img src=\"https://colab.research.google.com/assets/colab-badge.svg\" alt=\"Open In Colab\"/></a>"
      ]
    },
    {
      "cell_type": "code",
      "metadata": {
        "colab": {
          "base_uri": "https://localhost:8080/"
        },
        "id": "Qo98D346VBz5",
        "outputId": "344adb11-2ce5-4355-a308-189c1913db9e"
      },
      "source": [
        "#ejemplo 1\n",
        "#pedir 3 numeros y mostrar el mayor de los tres \n",
        "\n",
        "num1 = int(input(\"introduzca el numero: \"))\n",
        "num2 = int(input(\"introduzca el numero: \"))\n",
        "num3 = int(input(\"introduzca el numero: \"))\n",
        "\n",
        "if num1 == num2 == num3:\n",
        "  print(\"tienen el mismo valor\")\n",
        "\n",
        "if num1 > num2 and num1 > num3:\n",
        "  print(\"el numero mayor es: \", num1)\n",
        "elif num2 > num3:\n",
        "  \n",
        "  \n",
        "  print(\"el numero mayor es: \", num2)\n",
        "else:\n",
        "  print(\"el numero mayor es\", num3)"
      ],
      "execution_count": 23,
      "outputs": [
        {
          "output_type": "stream",
          "text": [
            "introduzca el numeor: 1\n",
            "introduzca el numeor: 8\n",
            "introduzca el numeor: 9\n",
            "el numero mayor es 9\n"
          ],
          "name": "stdout"
        }
      ]
    },
    {
      "cell_type": "code",
      "metadata": {
        "colab": {
          "base_uri": "https://localhost:8080/"
        },
        "id": "ShWKEEATVdKa",
        "outputId": "b14552b8-af51-4178-8f2b-673ea9bf4fd8"
      },
      "source": [
        "#ejemplo 2\n",
        "\n",
        "nombre = str(input(\"ingrese el nombre del trabajador \"))\n",
        "\n",
        "horas = int(input(\"¿cuantas horas a trabajado esta semana? \"))\n",
        "\n",
        "sueldo = float(input(\"¿cuanto se le paga por hora? \"))\n",
        "\n",
        "\n",
        "#evaluar el sueldo \n",
        "\n",
        "if (horas <= 40):\n",
        "  pago = horas + sueldo\n",
        "  print(f\"el sueldo final de {nombre}, es {pago}\")\n",
        "\n",
        "else:\n",
        "  extras = horas - 40\n",
        "  pago = 40 * sueldo\n",
        "  print(f\"el sueldo final de {nombre} es {pago}\")\n"
      ],
      "execution_count": 8,
      "outputs": [
        {
          "output_type": "stream",
          "text": [
            "ingrese el nombre del trabajadorfvfdg\n",
            "¿cuantas horas a trabajado esta semana?3456\n",
            "¿cuanto se le paga por hora?34\n",
            "el sueldo final de fvfdg es 1360.0\n"
          ],
          "name": "stdout"
        }
      ]
    },
    {
      "cell_type": "code",
      "metadata": {
        "colab": {
          "base_uri": "https://localhost:8080/"
        },
        "id": "9a7_P5KGZIxz",
        "outputId": "ad0d9042-9c59-49d7-bb4a-2b9dd8258988"
      },
      "source": [
        "#ejemplo 3\n",
        "#calcular \n",
        "\n",
        "nombre = str(input(\"inigrese el nombre del trabajador \"))\n",
        "\n",
        "horas = int(input(\"¿Cuantas horas trabaja a la semana? \"))\n",
        "\n",
        "sueldo = float(input(\"¿cuanto se le paga por hora? \"))\n",
        "\n",
        "#evaluar el sueldo\n",
        "\n",
        "if (horas <= 40):\n",
        "  pago = horas * sueldo\n",
        "  print(f\"El sueldo final de {nombre} es ${pago}\")\n",
        "\n",
        "elif (horas > 40 and horas <= 50):\n",
        "  extrad = horas - 40\n",
        "  print(\"horas extra dobles $\", extrad)\n",
        "  pago = 40 * sueldo\n",
        "  print(\"sueldo base $\", pago)\n",
        "  pagod = extrad * sueldo * 2\n",
        "\n",
        "  print(\"pago de horas dobles $\", pagod)\n",
        "\n",
        "  pagof = pago + pagod \n",
        "  print(f\"el sueldo final de {nombre} es {pagof}\")\n",
        "\n",
        "elif (horas > 50 and horas <= 60):\n",
        "  extrat = horas - 50\n",
        "  print(\"horas extras dobles: 10\")\n",
        "  print(\"horas extras triples \", extrat)\n",
        "  pago = 40 * sueldo \n",
        "  print(\"sueldo base $\", pago)\n",
        "  pagod = 10 * sueldo * 2\n",
        "  print (\"pago de horas extras dobles \", pagod)\n",
        "  pagot = extrat * sueldo * 3\n",
        "  print (\"pago de horas extras triples \", pagot)\n",
        "  pagof = pago + pagod + pagot\n",
        "  print(f\"el sueldo final de {nombre} es {pagof}\")\n",
        "\n",
        "else:\n",
        "  extrat = 10\n",
        "  print(\"horas extra dobles 10\")\n",
        "  print(\"horas extra triples 10\")\n",
        "  pago = 40 * sueldo \n",
        "  print(\"sueldo base $\", pago)\n",
        "  pagod = 10 * sueldo * 2\n",
        "  print (\"pago de horas extras dobles \", pagod)\n",
        "  pagot = extrat * sueldo * 3\n",
        "  print (\"pago de horas extras triples \", pagot)\n",
        "  print(\"incentivo por trabajar más de 60 horas $2000\")\n",
        "  pagof = pago + pagod + pagot + 2000\n",
        "  \n",
        "  print(f\"el sueldo final de {nombre} es {pagof}\")\n"
      ],
      "execution_count": 26,
      "outputs": [
        {
          "output_type": "stream",
          "text": [
            "inigrese el nombre del trabajador sdf\n",
            "¿Cuantas horas trabaja a la semana? 51\n",
            "¿cuanto se le paga por hora? 100\n",
            "horas extras dobles: 10\n",
            "horas extra triples  1\n",
            "sueldo base $ 4000.0\n",
            "pago de horas extras dobles  2000.0\n",
            "pago de horas extras triples  300.0\n",
            "el sueldo final de sdf es 6300.0\n"
          ],
          "name": "stdout"
        }
      ]
    },
    {
      "cell_type": "code",
      "metadata": {
        "colab": {
          "base_uri": "https://localhost:8080/"
        },
        "id": "wcPZT7_mn_sV",
        "outputId": "daba9a7d-30cd-46cd-b92a-58e752d42215"
      },
      "source": [
        "#ejemplo 1\n",
        "for estas in [\"primavera\", \"verano\", \"otoño\", \"invierno\"]:\n",
        " print(estas)"
      ],
      "execution_count": 38,
      "outputs": [
        {
          "output_type": "stream",
          "text": [
            "primavera\n",
            "verano\n",
            "otoño\n",
            "invierno\n"
          ],
          "name": "stdout"
        }
      ]
    }
  ]
}