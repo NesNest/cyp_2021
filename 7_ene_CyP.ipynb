{
  "nbformat": 4,
  "nbformat_minor": 0,
  "metadata": {
    "colab": {
      "name": "7_ene_CyP.ipynb",
      "provenance": [],
      "authorship_tag": "ABX9TyPuP5R2jabZxMyHSJTvjvbS",
      "include_colab_link": true
    },
    "kernelspec": {
      "name": "python3",
      "display_name": "Python 3"
    }
  },
  "cells": [
    {
      "cell_type": "markdown",
      "metadata": {
        "id": "view-in-github",
        "colab_type": "text"
      },
      "source": [
        "<a href=\"https://colab.research.google.com/github/PlasticTramp/cyp_2021/blob/main/7_ene_CyP.ipynb\" target=\"_parent\"><img src=\"https://colab.research.google.com/assets/colab-badge.svg\" alt=\"Open In Colab\"/></a>"
      ]
    },
    {
      "cell_type": "code",
      "metadata": {
        "id": "Fdxc7TYj4dOo",
        "colab": {
          "base_uri": "https://localhost:8080/"
        },
        "outputId": "b0b0ef3f-ed78-4513-dc0a-f0b2c41b510f"
      },
      "source": [
        "#problem 4.4\r\n",
        "n = int(input(\"ingrese un numero de elementos para el arreglo: \"))\r\n",
        "\r\n",
        "if (1 <= n) and (500 >= n):\r\n",
        "  vec = [0 for x in range(n)]\r\n",
        "  for i in range(n): \r\n",
        "    vec[i] = int(input(\"ingrese un valor \" + str(i + 1) +\": \"))\r\n",
        "  print(\"lista de numeros sin repeticiones \")\r\n",
        "  while i < n:\r\n",
        "    print(vec[i])\r\n",
        "    REPET = vec[i]\r\n",
        "    while i < n and i != n-1 and REPET == vec[i+1]  :\r\n",
        "      i = i + 1\r\n",
        "    i = i + 1   \r\n",
        "else:\r\n",
        "  print(\"el numero de elementos del arreglo es incorrecto \") \r\n"
      ],
      "execution_count": 1,
      "outputs": [
        {
          "output_type": "stream",
          "text": [
            "ingrese un numero de elementos para el arreglo: 10\n",
            "ingrese un valor 1: 2\n",
            "ingrese un valor 2: 4\n",
            "ingrese un valor 3: 6\n",
            "ingrese un valor 4: 3\n",
            "ingrese un valor 5: 3\n",
            "ingrese un valor 6: 4\n",
            "ingrese un valor 7: 7\n",
            "ingrese un valor 8: 3\n",
            "ingrese un valor 9: 4\n",
            "ingrese un valor 10: 7\n",
            "lista de numeros sin repeticiones \n",
            "7\n"
          ],
          "name": "stdout"
        }
      ]
    },
    {
      "cell_type": "code",
      "metadata": {
        "colab": {
          "base_uri": "https://localhost:8080/"
        },
        "id": "RyK0t62d7sz7",
        "outputId": "135e7dc1-d94d-4fdc-f0ba-d74bcfc5f2f1"
      },
      "source": [
        "ren = 3\r\n",
        "col = 5\r\n",
        "vec = [[0 for x in range(col)]for x in range(ren)]\r\n",
        "print(vec)\r\n",
        "vec [1][2] = 15\r\n",
        "print(vec)\r\n",
        "\r\n",
        "print(\"automatizar el recorrido\")\r\n",
        "for i in range(ren):\r\n",
        "  for j in range(col):\r\n",
        "    print(f\"{i},{j} = {vec[i][j]}\")"
      ],
      "execution_count": 10,
      "outputs": [
        {
          "output_type": "stream",
          "text": [
            "[[0, 0, 0, 0, 0], [0, 0, 0, 0, 0], [0, 0, 0, 0, 0]]\n",
            "[[0, 0, 0, 0, 0], [0, 0, 15, 0, 0], [0, 0, 0, 0, 0]]\n",
            "automatizar el recorrido\n",
            "0,0 = 0\n",
            "0,1 = 0\n",
            "0,2 = 0\n",
            "0,3 = 0\n",
            "0,4 = 0\n",
            "1,0 = 0\n",
            "1,1 = 0\n",
            "1,2 = 15\n",
            "1,3 = 0\n",
            "1,4 = 0\n",
            "2,0 = 0\n",
            "2,1 = 0\n",
            "2,2 = 0\n",
            "2,3 = 0\n",
            "2,4 = 0\n"
          ],
          "name": "stdout"
        }
      ]
    },
    {
      "cell_type": "code",
      "metadata": {
        "colab": {
          "base_uri": "https://localhost:8080/"
        },
        "id": "SDAySn9qFDD-",
        "outputId": "e3c72bf2-be11-44ff-92d3-415fca7eeb65"
      },
      "source": [
        "est = 4\r\n",
        "lles = [ [0 for x in range(12)] for x in range(est)]\r\n",
        "print(lles)\r\n",
        "for i in range(est):\r\n",
        "  for j in range(12):\r\n",
        "    mensaje = \"dame el valor del estado \" + str(i +1) + \" del mes \" + str(j + 1) \r\n",
        "    aux = int(input(mensaje + \" \"))\r\n",
        "    lles[i][j] = aux\r\n",
        "print(lles)\r\n",
        "print(\"promedio de lluvias\")\r\n",
        "for i in range(est):\r\n",
        "  suma = 0\r\n",
        "  pro = 0\r\n",
        "  for j in range(12):\r\n",
        "    suma = suma + lles[i][j]\r\n",
        "    pro = suma / 12\r\n",
        "  print(f\"el promedio de lluvias en el estado {i + 1} fue {pro:.2f}\")\r\n",
        "\r\n",
        "\r\n"
      ],
      "execution_count": 45,
      "outputs": [
        {
          "output_type": "stream",
          "text": [
            "[[0, 0, 0, 0, 0, 0, 0, 0, 0, 0, 0, 0], [0, 0, 0, 0, 0, 0, 0, 0, 0, 0, 0, 0], [0, 0, 0, 0, 0, 0, 0, 0, 0, 0, 0, 0], [0, 0, 0, 0, 0, 0, 0, 0, 0, 0, 0, 0]]\n",
            "dame el valor del estado 1 del mes 1 21\n",
            "dame el valor del estado 1 del mes 2 435\n",
            "dame el valor del estado 1 del mes 3 65\n",
            "dame el valor del estado 1 del mes 4 32\n",
            "dame el valor del estado 1 del mes 5 56\n",
            "dame el valor del estado 1 del mes 6 4\n",
            "dame el valor del estado 1 del mes 7 8\n",
            "dame el valor del estado 1 del mes 8 0\n",
            "dame el valor del estado 1 del mes 9 43\n",
            "dame el valor del estado 1 del mes 10 54\n",
            "dame el valor del estado 1 del mes 11 67\n",
            "dame el valor del estado 1 del mes 12 54\n",
            "dame el valor del estado 2 del mes 1 32\n",
            "dame el valor del estado 2 del mes 2 43\n",
            "dame el valor del estado 2 del mes 3 65\n",
            "dame el valor del estado 2 del mes 4 87\n",
            "dame el valor del estado 2 del mes 5 43\n",
            "dame el valor del estado 2 del mes 6 4\n",
            "dame el valor del estado 2 del mes 7 2\n",
            "dame el valor del estado 2 del mes 8 45\n",
            "dame el valor del estado 2 del mes 9 76\n",
            "dame el valor del estado 2 del mes 10 87\n",
            "dame el valor del estado 2 del mes 11 98\n",
            "dame el valor del estado 2 del mes 12 34\n",
            "dame el valor del estado 3 del mes 1 32\n",
            "dame el valor del estado 3 del mes 2 6\n",
            "dame el valor del estado 3 del mes 3 5\n",
            "dame el valor del estado 3 del mes 4 34\n",
            "dame el valor del estado 3 del mes 5 0\n",
            "dame el valor del estado 3 del mes 6 54\n",
            "dame el valor del estado 3 del mes 7 42\n",
            "dame el valor del estado 3 del mes 8 34\n",
            "dame el valor del estado 3 del mes 9 54\n",
            "dame el valor del estado 3 del mes 10 65\n",
            "dame el valor del estado 3 del mes 11 43\n",
            "dame el valor del estado 3 del mes 12 32\n",
            "dame el valor del estado 4 del mes 1 45\n",
            "dame el valor del estado 4 del mes 2 76\n",
            "dame el valor del estado 4 del mes 3 87\n",
            "dame el valor del estado 4 del mes 4 43\n",
            "dame el valor del estado 4 del mes 5 54\n",
            "dame el valor del estado 4 del mes 6 56\n",
            "dame el valor del estado 4 del mes 7 67\n",
            "dame el valor del estado 4 del mes 8 87\n",
            "dame el valor del estado 4 del mes 9 54\n",
            "dame el valor del estado 4 del mes 10 23\n",
            "dame el valor del estado 4 del mes 11 0\n",
            "dame el valor del estado 4 del mes 12 12\n",
            "[[21, 435, 65, 32, 56, 4, 8, 0, 43, 54, 67, 54], [32, 43, 65, 87, 43, 4, 2, 45, 76, 87, 98, 34], [32, 6, 5, 34, 0, 54, 42, 34, 54, 65, 43, 32], [45, 76, 87, 43, 54, 56, 67, 87, 54, 23, 0, 12]]\n",
            "promedio de lluvias\n",
            "el promedio de lluvias en el estado 1 fue 69.92\n",
            "el promedio de lluvias en el estado 2 fue 51.33\n",
            "el promedio de lluvias en el estado 3 fue 33.42\n",
            "el promedio de lluvias en el estado 4 fue 50.33\n"
          ],
          "name": "stdout"
        }
      ]
    }
  ]
}