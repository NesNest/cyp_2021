{
  "nbformat": 4,
  "nbformat_minor": 0,
  "metadata": {
    "colab": {
      "name": "19_nov_CyP.ipynb",
      "provenance": [],
      "authorship_tag": "ABX9TyNGS5+QcvyF+IKsbEPgCKVQ",
      "include_colab_link": true
    },
    "kernelspec": {
      "name": "python3",
      "display_name": "Python 3"
    }
  },
  "cells": [
    {
      "cell_type": "markdown",
      "metadata": {
        "id": "view-in-github",
        "colab_type": "text"
      },
      "source": [
        "<a href=\"https://colab.research.google.com/github/PlasticTramp/cyp_2021/blob/main/19_nov_CyP.ipynb\" target=\"_parent\"><img src=\"https://colab.research.google.com/assets/colab-badge.svg\" alt=\"Open In Colab\"/></a>"
      ]
    },
    {
      "cell_type": "code",
      "metadata": {
        "colab": {
          "base_uri": "https://localhost:8080/"
        },
        "id": "uUcnVE5TkY24",
        "outputId": "152794ac-a7ad-46f3-b1a9-c5821c937c49"
      },
      "source": [
        "# ejemplo 1.5\n",
        "i = 0\n",
        "i = i + 1\n",
        "i = i + 1\n",
        "print(f\"i = { i }\")\n",
        "j = 5 ** 2 / 3\n",
        "print(f\"j = { j }\")"
      ],
      "execution_count": 5,
      "outputs": [
        {
          "output_type": "stream",
          "text": [
            "i = 2\n",
            "j = 8.333333333333334\n"
          ],
          "name": "stdout"
        }
      ]
    },
    {
      "cell_type": "code",
      "metadata": {
        "colab": {
          "base_uri": "https://localhost:8080/"
        },
        "id": "de6_T7EDm0Nw",
        "outputId": "ca6f1003-0df4-4510-8a68-6e3cc6d765cb"
      },
      "source": [
        "#ejemplo 1.6´\n",
        "#declaracionde valores (reservar memoria)\n",
        "A = 0\n",
        "B = 0\n",
        "C = 0\n",
        "D = 0\n",
        "\n",
        "A = int(input(\"dame un valor entero:\"))\n",
        "B = int(input(\"dame un valor entero:\"))\n",
        "C = int(input(\"dame un valor entero:\"))\n",
        "D = int(input(\"dame un valor entero:\"))\n",
        "\n",
        "print(D)\n",
        "print(C)\n",
        "print(B)\n",
        "print(A)"
      ],
      "execution_count": 22,
      "outputs": [
        {
          "output_type": "stream",
          "text": [
            "dame un valor entero:6\n",
            "dame un valor entero:7\n",
            "dame un valor entero:6\n",
            "dame un valor entero:8\n",
            "8\n",
            "6\n",
            "7\n",
            "6\n"
          ],
          "name": "stdout"
        }
      ]
    },
    {
      "cell_type": "code",
      "metadata": {
        "colab": {
          "base_uri": "https://localhost:8080/"
        },
        "id": "8f7DiPoQpPYc",
        "outputId": "9f362989-1b32-4316-db70-60921c282d5c"
      },
      "source": [
        "#ejemplo 1.7\n",
        "A = 0\n",
        "B = 0\n",
        "res = 0 \n",
        "A = int(input(\"dame un entero:\"))\n",
        "B = int(input(\"dame otro entero:\"))\n",
        "res = ( A + B )** 2 / 3\n",
        "print(\"resultado\", res)\n",
        "\n"
      ],
      "execution_count": 15,
      "outputs": [
        {
          "output_type": "stream",
          "text": [
            "dame un entero:5\n",
            "dame otro entero:6\n",
            "resultado 40.333333333333336\n"
          ],
          "name": "stdout"
        }
      ]
    },
    {
      "cell_type": "code",
      "metadata": {
        "colab": {
          "base_uri": "https://localhost:8080/"
        },
        "id": "N9oxl4b4qd_h",
        "outputId": "48c8cd79-ac68-4e14-b2b3-b0c10b35f749"
      },
      "source": [
        "#ejemplo 1.8 \n",
        "mat = 0\n",
        "cal1 = 0\n",
        "cal2 = 0 \n",
        "cal3 = 0\n",
        "cal4 = 0\n",
        "cal5 = 0\n",
        "pro = 0.0\n",
        "\n",
        "mat = int(input(\"pon tu matricula \"))\n",
        "cal1 = float(input(\"dame la calificaion 1:\"))\n",
        "cal2 = float(input(\"dame la calificaion 1:\"))\n",
        "cal3 = float(input(\"dame la calificaion 1:\"))\n",
        "cal4 = float(input(\"dame la calificaion 1:\"))\n",
        "cal5 = float(input(\"dame la calificaion 1:\"))\n",
        "\n",
        "pro = (cal1 + cal2 + cal3 + cal4 + cal5) / 5\n",
        "\n",
        "print(\"la matricula es \", mat)\n",
        "print(\"el pomedio es \", pro)\n"
      ],
      "execution_count": 17,
      "outputs": [
        {
          "output_type": "stream",
          "text": [
            "pon tu matricula 933434834\n",
            "dame la calificaion 1:8\n",
            "dame la calificaion 1:9\n",
            "dame la calificaion 1:6\n",
            "dame la calificaion 1:7\n",
            "dame la calificaion 1:9\n",
            "la matricula es  933434834\n",
            "el pomedio es  7.8\n"
          ],
          "name": "stdout"
        }
      ]
    },
    {
      "cell_type": "code",
      "metadata": {
        "colab": {
          "base_uri": "https://localhost:8080/"
        },
        "id": "HQGFFVzaxtIU",
        "outputId": "03ed752e-e27e-4163-9119-d4f9ed63904c"
      },
      "source": [
        "# ejemplo 1.9\n",
        "num = 0\n",
        "res1 = 0\n",
        "res2 = 0\n",
        "\n",
        "num = int(input(\"dame un numero \"))\n",
        "\n",
        "res1 = num ** 2\n",
        "res2 = num ** 3\n",
        "\n",
        "print(\"el cubo es \", res1, \", el cuadrado es \", res2)"
      ],
      "execution_count": 20,
      "outputs": [
        {
          "output_type": "stream",
          "text": [
            "dame un numero 2\n",
            "el cubo es  4 , el cuadrado es  8\n"
          ],
          "name": "stdout"
        }
      ]
    },
    {
      "cell_type": "code",
      "metadata": {
        "colab": {
          "base_uri": "https://localhost:8080/"
        },
        "id": "p6CXic5w0ONp",
        "outputId": "45210255-67e8-40f2-9168-9090512d79be"
      },
      "source": [
        "#ejemplo 1.10\n",
        "bas = 0\n",
        "alt = 0\n",
        "per = 0\n",
        "are = 0\n",
        "\n",
        "bas = int(input(\"escribe la base: \"))\n",
        "alt = int(input(\"escribe la altura: \"))\n",
        "\n",
        "per = 2 * (bas + alt)\n",
        "are = bas * alt\n",
        "\n",
        "print(f\"el area es {are}, el perimetro es {per}\")\n"
      ],
      "execution_count": 21,
      "outputs": [
        {
          "output_type": "stream",
          "text": [
            "escribe la base: 3\n",
            "escribe la altura: 4\n",
            "la superficie es 12, el perimetro es 14\n"
          ],
          "name": "stdout"
        }
      ]
    }
  ]
}